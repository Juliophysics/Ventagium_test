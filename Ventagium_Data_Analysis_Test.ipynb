{
 "cells": [
  {
   "cell_type": "markdown",
   "metadata": {},
   "source": [
    "# Data analysis for Ventagium company\n",
    "<img src=\"https://static.wixstatic.com/media/ad26e6_b92db70a2c2a4a849836c7edbadb1938~mv2_d_4107_1670_s_2.png/v1/fit/w_2500,h_1330,al_c/ad26e6_b92db70a2c2a4a849836c7edbadb1938~mv2_d_4107_1670_s_2.png\">\n"
   ]
  },
  {
   "cell_type": "code",
   "execution_count": 1,
   "metadata": {},
   "outputs": [],
   "source": [
    "import pandas as pd \n",
    "import matplotlib.pyplot as plt\n",
    "import matplotlib.ticker as ticker\n",
    "import numpy as np\n",
    "import seaborn as sns\n",
    "import datetime\n",
    "from datetime import date\n",
    "import matplotlib.dates\n",
    "import matplotlib as mpl\n",
    "import matplotlib.dates as mdates\n",
    "import matplotlib.cbook as cbook\n",
    "from matplotlib.dates import DateFormatter"
   ]
  },
  {
   "cell_type": "markdown",
   "metadata": {},
   "source": [
    "## ETL process"
   ]
  },
  {
   "cell_type": "markdown",
   "metadata": {},
   "source": [
    "### Exploratory data analisis "
   ]
  },
  {
   "cell_type": "code",
   "execution_count": 2,
   "metadata": {},
   "outputs": [],
   "source": [
    "df = pd.read_csv(\"dataset.csv\")"
   ]
  },
  {
   "cell_type": "code",
   "execution_count": 3,
   "metadata": {
    "scrolled": true
   },
   "outputs": [
    {
     "data": {
      "text/html": [
       "<div>\n",
       "<style scoped>\n",
       "    .dataframe tbody tr th:only-of-type {\n",
       "        vertical-align: middle;\n",
       "    }\n",
       "\n",
       "    .dataframe tbody tr th {\n",
       "        vertical-align: top;\n",
       "    }\n",
       "\n",
       "    .dataframe thead th {\n",
       "        text-align: right;\n",
       "    }\n",
       "</style>\n",
       "<table border=\"1\" class=\"dataframe\">\n",
       "  <thead>\n",
       "    <tr style=\"text-align: right;\">\n",
       "      <th></th>\n",
       "      <th>date</th>\n",
       "      <th>sales_usd</th>\n",
       "      <th>product_description</th>\n",
       "      <th>client_name</th>\n",
       "      <th>sales_agent_name</th>\n",
       "    </tr>\n",
       "  </thead>\n",
       "  <tbody>\n",
       "    <tr>\n",
       "      <th>0</th>\n",
       "      <td>43587</td>\n",
       "      <td>829826.2090</td>\n",
       "      <td>Producto G</td>\n",
       "      <td>Quesillos S.C.</td>\n",
       "      <td>Guillermo Ochoa</td>\n",
       "    </tr>\n",
       "    <tr>\n",
       "      <th>1</th>\n",
       "      <td>43588</td>\n",
       "      <td>655680.0142</td>\n",
       "      <td>Producto G</td>\n",
       "      <td>Quesillos S.C.</td>\n",
       "      <td>Guillermo Ochoa</td>\n",
       "    </tr>\n",
       "    <tr>\n",
       "      <th>2</th>\n",
       "      <td>43591</td>\n",
       "      <td>596724.6841</td>\n",
       "      <td>Producto G</td>\n",
       "      <td>Quesillos S.C.</td>\n",
       "      <td>Guillermo Ochoa</td>\n",
       "    </tr>\n",
       "    <tr>\n",
       "      <th>3</th>\n",
       "      <td>43592</td>\n",
       "      <td>599123.5786</td>\n",
       "      <td>Producto G</td>\n",
       "      <td>Quesillos S.C.</td>\n",
       "      <td>Guillermo Ochoa</td>\n",
       "    </tr>\n",
       "    <tr>\n",
       "      <th>4</th>\n",
       "      <td>43593</td>\n",
       "      <td>325413.5112</td>\n",
       "      <td>Producto G</td>\n",
       "      <td>Quesillos S.C.</td>\n",
       "      <td>Guillermo Ochoa</td>\n",
       "    </tr>\n",
       "    <tr>\n",
       "      <th>5</th>\n",
       "      <td>43594</td>\n",
       "      <td>944862.6159</td>\n",
       "      <td>Producto G</td>\n",
       "      <td>Quesillos S.C.</td>\n",
       "      <td>Guillermo Ochoa</td>\n",
       "    </tr>\n",
       "    <tr>\n",
       "      <th>6</th>\n",
       "      <td>43595</td>\n",
       "      <td>599805.9680</td>\n",
       "      <td>Producto G</td>\n",
       "      <td>Quesillos S.C.</td>\n",
       "      <td>Guillermo Ochoa</td>\n",
       "    </tr>\n",
       "    <tr>\n",
       "      <th>7</th>\n",
       "      <td>43596</td>\n",
       "      <td>162301.0925</td>\n",
       "      <td>Producto G</td>\n",
       "      <td>Quesillos S.C.</td>\n",
       "      <td>Guillermo Ochoa</td>\n",
       "    </tr>\n",
       "    <tr>\n",
       "      <th>8</th>\n",
       "      <td>43598</td>\n",
       "      <td>215098.3955</td>\n",
       "      <td>Producto G</td>\n",
       "      <td>Quesillos S.C.</td>\n",
       "      <td>Guillermo Ochoa</td>\n",
       "    </tr>\n",
       "    <tr>\n",
       "      <th>9</th>\n",
       "      <td>43599</td>\n",
       "      <td>683381.5437</td>\n",
       "      <td>Producto G</td>\n",
       "      <td>Quesillos S.C.</td>\n",
       "      <td>Guillermo Ochoa</td>\n",
       "    </tr>\n",
       "  </tbody>\n",
       "</table>\n",
       "</div>"
      ],
      "text/plain": [
       "    date    sales_usd product_description     client_name sales_agent_name\n",
       "0  43587  829826.2090          Producto G  Quesillos S.C.  Guillermo Ochoa\n",
       "1  43588  655680.0142          Producto G  Quesillos S.C.  Guillermo Ochoa\n",
       "2  43591  596724.6841          Producto G  Quesillos S.C.  Guillermo Ochoa\n",
       "3  43592  599123.5786          Producto G  Quesillos S.C.  Guillermo Ochoa\n",
       "4  43593  325413.5112          Producto G  Quesillos S.C.  Guillermo Ochoa\n",
       "5  43594  944862.6159          Producto G  Quesillos S.C.  Guillermo Ochoa\n",
       "6  43595  599805.9680          Producto G  Quesillos S.C.  Guillermo Ochoa\n",
       "7  43596  162301.0925          Producto G  Quesillos S.C.  Guillermo Ochoa\n",
       "8  43598  215098.3955          Producto G  Quesillos S.C.  Guillermo Ochoa\n",
       "9  43599  683381.5437          Producto G  Quesillos S.C.  Guillermo Ochoa"
      ]
     },
     "execution_count": 3,
     "metadata": {},
     "output_type": "execute_result"
    }
   ],
   "source": [
    "df.head(10)"
   ]
  },
  {
   "cell_type": "code",
   "execution_count": 4,
   "metadata": {},
   "outputs": [
    {
     "data": {
      "text/html": [
       "<div>\n",
       "<style scoped>\n",
       "    .dataframe tbody tr th:only-of-type {\n",
       "        vertical-align: middle;\n",
       "    }\n",
       "\n",
       "    .dataframe tbody tr th {\n",
       "        vertical-align: top;\n",
       "    }\n",
       "\n",
       "    .dataframe thead th {\n",
       "        text-align: right;\n",
       "    }\n",
       "</style>\n",
       "<table border=\"1\" class=\"dataframe\">\n",
       "  <thead>\n",
       "    <tr style=\"text-align: right;\">\n",
       "      <th></th>\n",
       "      <th>date</th>\n",
       "      <th>sales_usd</th>\n",
       "      <th>product_description</th>\n",
       "      <th>client_name</th>\n",
       "      <th>sales_agent_name</th>\n",
       "    </tr>\n",
       "  </thead>\n",
       "  <tbody>\n",
       "    <tr>\n",
       "      <th>4343</th>\n",
       "      <td>43858</td>\n",
       "      <td>3.288083e+06</td>\n",
       "      <td>Producto E</td>\n",
       "      <td>Carpinteros Unidos del Bajio</td>\n",
       "      <td>Rodolfo Pizarro</td>\n",
       "    </tr>\n",
       "    <tr>\n",
       "      <th>4344</th>\n",
       "      <td>43859</td>\n",
       "      <td>1.639106e+04</td>\n",
       "      <td>Producto E</td>\n",
       "      <td>Quesillos S.C.</td>\n",
       "      <td>Rodolfo Pizarro</td>\n",
       "    </tr>\n",
       "    <tr>\n",
       "      <th>4345</th>\n",
       "      <td>43859</td>\n",
       "      <td>1.018227e+05</td>\n",
       "      <td>Producto H</td>\n",
       "      <td>Jamonsitos SAPI de CV</td>\n",
       "      <td>Rodolfo Pizarro</td>\n",
       "    </tr>\n",
       "    <tr>\n",
       "      <th>4346</th>\n",
       "      <td>43859</td>\n",
       "      <td>2.143882e+05</td>\n",
       "      <td>Producto E</td>\n",
       "      <td>Jamonsitos SAPI de CV</td>\n",
       "      <td>Rodolfo Pizarro</td>\n",
       "    </tr>\n",
       "    <tr>\n",
       "      <th>4347</th>\n",
       "      <td>43859</td>\n",
       "      <td>3.881200e+05</td>\n",
       "      <td>Producto I</td>\n",
       "      <td>Arbolitos Unidos de México S.A. de C.V.</td>\n",
       "      <td>Rodolfo Pizarro</td>\n",
       "    </tr>\n",
       "    <tr>\n",
       "      <th>4348</th>\n",
       "      <td>43859</td>\n",
       "      <td>5.135850e+05</td>\n",
       "      <td>Producto E</td>\n",
       "      <td>Carpinteros Unidos del Bajio</td>\n",
       "      <td>Rodolfo Pizarro</td>\n",
       "    </tr>\n",
       "    <tr>\n",
       "      <th>4349</th>\n",
       "      <td>43860</td>\n",
       "      <td>3.669337e+05</td>\n",
       "      <td>Producto E</td>\n",
       "      <td>Carpinteros Unidos del Bajio</td>\n",
       "      <td>Miguel Layún</td>\n",
       "    </tr>\n",
       "    <tr>\n",
       "      <th>4350</th>\n",
       "      <td>43860</td>\n",
       "      <td>8.064545e+05</td>\n",
       "      <td>Producto E</td>\n",
       "      <td>Carros y Refacciones del Centro S.A. de C.V.</td>\n",
       "      <td>Miguel Layún</td>\n",
       "    </tr>\n",
       "    <tr>\n",
       "      <th>4351</th>\n",
       "      <td>43860</td>\n",
       "      <td>2.557195e+06</td>\n",
       "      <td>Producto D</td>\n",
       "      <td>Libros al por Mayor S.A.P.I de C.V.</td>\n",
       "      <td>Miguel Layún</td>\n",
       "    </tr>\n",
       "    <tr>\n",
       "      <th>4352</th>\n",
       "      <td>43861</td>\n",
       "      <td>2.962278e+04</td>\n",
       "      <td>Producto E</td>\n",
       "      <td>Quesillos S.C.</td>\n",
       "      <td>Miguel Layún</td>\n",
       "    </tr>\n",
       "  </tbody>\n",
       "</table>\n",
       "</div>"
      ],
      "text/plain": [
       "       date     sales_usd product_description  \\\n",
       "4343  43858  3.288083e+06          Producto E   \n",
       "4344  43859  1.639106e+04          Producto E   \n",
       "4345  43859  1.018227e+05          Producto H   \n",
       "4346  43859  2.143882e+05          Producto E   \n",
       "4347  43859  3.881200e+05          Producto I   \n",
       "4348  43859  5.135850e+05          Producto E   \n",
       "4349  43860  3.669337e+05          Producto E   \n",
       "4350  43860  8.064545e+05          Producto E   \n",
       "4351  43860  2.557195e+06          Producto D   \n",
       "4352  43861  2.962278e+04          Producto E   \n",
       "\n",
       "                                       client_name sales_agent_name  \n",
       "4343                  Carpinteros Unidos del Bajio  Rodolfo Pizarro  \n",
       "4344                                Quesillos S.C.  Rodolfo Pizarro  \n",
       "4345                         Jamonsitos SAPI de CV  Rodolfo Pizarro  \n",
       "4346                         Jamonsitos SAPI de CV  Rodolfo Pizarro  \n",
       "4347       Arbolitos Unidos de México S.A. de C.V.  Rodolfo Pizarro  \n",
       "4348                  Carpinteros Unidos del Bajio  Rodolfo Pizarro  \n",
       "4349                  Carpinteros Unidos del Bajio     Miguel Layún  \n",
       "4350  Carros y Refacciones del Centro S.A. de C.V.     Miguel Layún  \n",
       "4351           Libros al por Mayor S.A.P.I de C.V.     Miguel Layún  \n",
       "4352                                Quesillos S.C.     Miguel Layún  "
      ]
     },
     "execution_count": 4,
     "metadata": {},
     "output_type": "execute_result"
    }
   ],
   "source": [
    "df.tail(10)"
   ]
  },
  {
   "cell_type": "code",
   "execution_count": 5,
   "metadata": {
    "scrolled": true
   },
   "outputs": [
    {
     "name": "stdout",
     "output_type": "stream",
     "text": [
      "the number of agents is 8 \n",
      "\n",
      "They are: \n",
      " \n",
      "  ['Guillermo Ochoa', 'Raul Jimenez', 'Jose Juan Macias', \"Santiago Gim´'enez\", 'Edson Álvarez', 'Uriel Antuna', 'Rodolfo Pizarro', 'Miguel Layún']\n"
     ]
    }
   ],
   "source": [
    "print('the number of agents is', len(df[\"sales_agent_name\"].unique()), \"\\n\")\n",
    "print(\"They are: \\n \\n \", list(df['sales_agent_name'].unique()))"
   ]
  },
  {
   "cell_type": "code",
   "execution_count": 6,
   "metadata": {},
   "outputs": [
    {
     "name": "stdout",
     "output_type": "stream",
     "text": [
      "The number of products offered is 10 \n",
      "\n",
      "These are: \n",
      " \n",
      " ['Producto G', 'Producto E', 'Producto F', 'Producto H', 'Producto C', 'Producto D', 'Producto I', 'Producto A', 'Producto B', 'Producto 3']\n"
     ]
    }
   ],
   "source": [
    "print('The number of products offered is', len(df[\"product_description\"].unique()), \"\\n\")\n",
    "print(\"These are: \\n \\n\", list(df['product_description'].unique()))"
   ]
  },
  {
   "cell_type": "code",
   "execution_count": 7,
   "metadata": {},
   "outputs": [
    {
     "name": "stdout",
     "output_type": "stream",
     "text": [
      "The number of clients is: 7 \n",
      "\n",
      "They are: \n",
      " \n",
      " ['Quesillos S.C.', 'Pescaditos SA de CV', 'Carros y Refacciones del Centro S.A. de C.V.', 'Arbolitos Unidos de México S.A. de C.V.', 'Libros al por Mayor S.A.P.I de C.V.', 'Carpinteros Unidos del Bajio', 'Jamonsitos SAPI de CV']\n"
     ]
    }
   ],
   "source": [
    "print('The number of clients is:', len(df[\"client_name\"].unique()), \"\\n\")\n",
    "print(\"They are: \\n \\n\", list(df['client_name'].unique()))"
   ]
  },
  {
   "cell_type": "code",
   "execution_count": 8,
   "metadata": {},
   "outputs": [],
   "source": [
    "sales_agents = list(df[\"sales_agent_name\"].unique())"
   ]
  },
  {
   "cell_type": "code",
   "execution_count": 9,
   "metadata": {
    "scrolled": true
   },
   "outputs": [],
   "source": [
    "list_clients = list(df[\"client_name\"].unique())"
   ]
  },
  {
   "cell_type": "code",
   "execution_count": 10,
   "metadata": {},
   "outputs": [],
   "source": [
    "list_products = list(df[\"product_description\"].unique())"
   ]
  },
  {
   "cell_type": "code",
   "execution_count": 11,
   "metadata": {},
   "outputs": [
    {
     "name": "stdout",
     "output_type": "stream",
     "text": [
      "The sales have been done in: \n",
      " \n",
      " 233 different days\n"
     ]
    }
   ],
   "source": [
    "print('The sales have been done in: \\n \\n', len(list(df[\"date\"].unique())), 'different days')"
   ]
  },
  {
   "cell_type": "code",
   "execution_count": 12,
   "metadata": {},
   "outputs": [
    {
     "data": {
      "text/html": [
       "<div>\n",
       "<style scoped>\n",
       "    .dataframe tbody tr th:only-of-type {\n",
       "        vertical-align: middle;\n",
       "    }\n",
       "\n",
       "    .dataframe tbody tr th {\n",
       "        vertical-align: top;\n",
       "    }\n",
       "\n",
       "    .dataframe thead th {\n",
       "        text-align: right;\n",
       "    }\n",
       "</style>\n",
       "<table border=\"1\" class=\"dataframe\">\n",
       "  <thead>\n",
       "    <tr style=\"text-align: right;\">\n",
       "      <th></th>\n",
       "      <th>date</th>\n",
       "      <th>sales_usd</th>\n",
       "    </tr>\n",
       "  </thead>\n",
       "  <tbody>\n",
       "    <tr>\n",
       "      <th>count</th>\n",
       "      <td>4353.000000</td>\n",
       "      <td>4.353000e+03</td>\n",
       "    </tr>\n",
       "    <tr>\n",
       "      <th>mean</th>\n",
       "      <td>43717.558465</td>\n",
       "      <td>1.210319e+06</td>\n",
       "    </tr>\n",
       "    <tr>\n",
       "      <th>std</th>\n",
       "      <td>77.053674</td>\n",
       "      <td>1.950544e+06</td>\n",
       "    </tr>\n",
       "    <tr>\n",
       "      <th>min</th>\n",
       "      <td>43586.000000</td>\n",
       "      <td>-2.426351e+05</td>\n",
       "    </tr>\n",
       "    <tr>\n",
       "      <th>25%</th>\n",
       "      <td>43651.000000</td>\n",
       "      <td>2.044899e+05</td>\n",
       "    </tr>\n",
       "    <tr>\n",
       "      <th>50%</th>\n",
       "      <td>43713.000000</td>\n",
       "      <td>6.154195e+05</td>\n",
       "    </tr>\n",
       "    <tr>\n",
       "      <th>75%</th>\n",
       "      <td>43780.000000</td>\n",
       "      <td>1.356572e+06</td>\n",
       "    </tr>\n",
       "    <tr>\n",
       "      <th>max</th>\n",
       "      <td>43861.000000</td>\n",
       "      <td>3.614624e+07</td>\n",
       "    </tr>\n",
       "  </tbody>\n",
       "</table>\n",
       "</div>"
      ],
      "text/plain": [
       "               date     sales_usd\n",
       "count   4353.000000  4.353000e+03\n",
       "mean   43717.558465  1.210319e+06\n",
       "std       77.053674  1.950544e+06\n",
       "min    43586.000000 -2.426351e+05\n",
       "25%    43651.000000  2.044899e+05\n",
       "50%    43713.000000  6.154195e+05\n",
       "75%    43780.000000  1.356572e+06\n",
       "max    43861.000000  3.614624e+07"
      ]
     },
     "execution_count": 12,
     "metadata": {},
     "output_type": "execute_result"
    }
   ],
   "source": [
    "df.describe()"
   ]
  },
  {
   "cell_type": "code",
   "execution_count": 13,
   "metadata": {
    "scrolled": true
   },
   "outputs": [
    {
     "data": {
      "text/plain": [
       "date                     int64\n",
       "sales_usd              float64\n",
       "product_description     object\n",
       "client_name             object\n",
       "sales_agent_name        object\n",
       "dtype: object"
      ]
     },
     "execution_count": 13,
     "metadata": {},
     "output_type": "execute_result"
    }
   ],
   "source": [
    "df.dtypes"
   ]
  },
  {
   "cell_type": "markdown",
   "metadata": {},
   "source": [
    "### Let's see if this data contains NA's or null values"
   ]
  },
  {
   "cell_type": "code",
   "execution_count": 14,
   "metadata": {
    "scrolled": true
   },
   "outputs": [
    {
     "name": "stdout",
     "output_type": "stream",
     "text": [
      "date                   0\n",
      "sales_usd              0\n",
      "product_description    0\n",
      "client_name            0\n",
      "sales_agent_name       0\n",
      "dtype: int64\n"
     ]
    }
   ],
   "source": [
    "print(df.isnull().sum()) "
   ]
  },
  {
   "cell_type": "code",
   "execution_count": 15,
   "metadata": {},
   "outputs": [
    {
     "data": {
      "text/plain": [
       "Index(['date', 'sales_usd', 'product_description', 'client_name',\n",
       "       'sales_agent_name'],\n",
       "      dtype='object')"
      ]
     },
     "execution_count": 15,
     "metadata": {},
     "output_type": "execute_result"
    }
   ],
   "source": [
    "df.columns"
   ]
  },
  {
   "cell_type": "code",
   "execution_count": 16,
   "metadata": {
    "scrolled": true
   },
   "outputs": [
    {
     "name": "stdout",
     "output_type": "stream",
     "text": [
      "Numbers of sales by product: \n",
      "\n"
     ]
    },
    {
     "data": {
      "text/plain": [
       "Producto E    2751\n",
       "Producto H     680\n",
       "Producto G     376\n",
       "Producto F     268\n",
       "Producto C     186\n",
       "Producto D      59\n",
       "Producto I      17\n",
       "Producto A      14\n",
       "Producto 3       1\n",
       "Producto B       1\n",
       "Name: product_description, dtype: int64"
      ]
     },
     "execution_count": 16,
     "metadata": {},
     "output_type": "execute_result"
    }
   ],
   "source": [
    "print(\"Numbers of sales by product: \\n\")\n",
    "df[\"product_description\"].value_counts()"
   ]
  },
  {
   "cell_type": "code",
   "execution_count": 17,
   "metadata": {},
   "outputs": [
    {
     "name": "stdout",
     "output_type": "stream",
     "text": [
      "Sales by client: \n",
      "\n"
     ]
    },
    {
     "data": {
      "text/plain": [
       "Pescaditos SA de CV                             942\n",
       "Carros y Refacciones del Centro S.A. de C.V.    868\n",
       "Carpinteros Unidos del Bajio                    830\n",
       "Quesillos S.C.                                  680\n",
       "Libros al por Mayor S.A.P.I de C.V.             457\n",
       "Jamonsitos SAPI de CV                           292\n",
       "Arbolitos Unidos de México S.A. de C.V.         284\n",
       "Name: client_name, dtype: int64"
      ]
     },
     "execution_count": 17,
     "metadata": {},
     "output_type": "execute_result"
    }
   ],
   "source": [
    "print(\"Sales by client: \\n\")\n",
    "df[\"client_name\"].value_counts()"
   ]
  },
  {
   "cell_type": "code",
   "execution_count": 18,
   "metadata": {},
   "outputs": [
    {
     "name": "stdout",
     "output_type": "stream",
     "text": [
      "Sales by agent: \n",
      "\n"
     ]
    },
    {
     "data": {
      "text/plain": [
       "Raul Jimenez          1056\n",
       "Rodolfo Pizarro        805\n",
       "Edson Álvarez          732\n",
       "Uriel Antuna           612\n",
       "Jose Juan Macias       598\n",
       "Guillermo Ochoa        391\n",
       "Santiago Gim´'enez     155\n",
       "Miguel Layún             4\n",
       "Name: sales_agent_name, dtype: int64"
      ]
     },
     "execution_count": 18,
     "metadata": {},
     "output_type": "execute_result"
    }
   ],
   "source": [
    "print(\"Sales by agent: \\n\")\n",
    "df[\"sales_agent_name\"].value_counts()"
   ]
  },
  {
   "cell_type": "code",
   "execution_count": 19,
   "metadata": {},
   "outputs": [],
   "source": [
    "columns = list(df.columns)"
   ]
  },
  {
   "cell_type": "code",
   "execution_count": 20,
   "metadata": {},
   "outputs": [],
   "source": [
    "# for i in columns:\n",
    "#     print(\"\\n\", i, \":\\n\")\n",
    "#     print(df[i].value_counts())    "
   ]
  },
  {
   "cell_type": "code",
   "execution_count": 21,
   "metadata": {},
   "outputs": [],
   "source": [
    "# fig, ax = plt.subplots(2, 4, sharex = False, sharey = False, figsize = (10,10))\n",
    "\n",
    "# ax[0,0].hist(df[df[\"sales_agent_name\"] == \"Guillermo Ochoa\"][\"sales_usd\"], color = \"Blue\")\n",
    "# ax[0,1].hist(df[df[\"sales_agent_name\"] == \"Rodolfo Pizarro\"][\"sales_usd\"] )\n",
    "# ax[0,2].hist(df[df[\"sales_agent_name\"] == \"Edson Álvarez\"][\"sales_usd\"] )\n",
    "# ax[0,3].hist(df[df[\"sales_agent_name\"] == \"Uriel Antuna\"][\"sales_usd\"])\n",
    "# ax[1,0].hist(df[df[\"sales_agent_name\"] == \"Jose Juan Macias\"][\"sales_usd\"] )\n",
    "# ax[1,1].hist(df[df[\"sales_agent_name\"] == \"Guillermo Ochoa\"][\"sales_usd\"] )\n",
    "# ax[1,2].hist(df[df[\"sales_agent_name\"] == \"Santiago Gim´'enez\"][\"sales_usd\"] )\n",
    "# ax[1,3].hist(df[df[\"sales_agent_name\"] == \"Miguel Layún\"][\"sales_usd\"] )"
   ]
  },
  {
   "cell_type": "code",
   "execution_count": 22,
   "metadata": {},
   "outputs": [
    {
     "data": {
      "image/png": "[encoded data removed]",
      "text/plain": [
       "<Figure size 720x720 with 8 Axes>"
      ]
     },
     "metadata": {
      "needs_background": "light"
     },
     "output_type": "display_data"
    }
   ],
   "source": [
    "nrows = 2\n",
    "ncols = 4\n",
    "fig, axes = plt.subplots(nrows = nrows, ncols = ncols, sharey = False, sharex = False, figsize=(10, 10))\n",
    "\n",
    "counter = 0\n",
    "for i in range(nrows):\n",
    "    for j in range(ncols):\n",
    "\n",
    "        ax = axes[i][j]\n",
    "\n",
    "        # Plot when we have data\n",
    "        if counter <= len(list_clients):\n",
    "\n",
    "            ax.hist(df[df[\"sales_agent_name\"] == sales_agents[counter]][\"sales_usd\"], color='blue',bins = \"auto\", alpha =0.7, rwidth = 0.85)\n",
    "            \n",
    "            ax.set_xlabel(\"Valor de la venta\")\n",
    "            ax.set_ylabel('Numero de ventas')\n",
    "            #ax.set_ylim([0, 5])\n",
    "            leg = ax.legend([str(sales_agents[counter])])\n",
    "            leg.draw_frame(False)\n",
    "\n",
    "        # Remove axis when we no longer have data\n",
    "        else:\n",
    "            ax.set_axis_off()\n",
    "            \n",
    "        counter += 1\n",
    "\n",
    "plt.show()    "
   ]
  },
  {
   "cell_type": "code",
   "execution_count": 23,
   "metadata": {},
   "outputs": [
    {
     "data": {
      "text/plain": [
       "[268255718.14277998,\n",
       " 1021804971.2968359,\n",
       " 687485181.183179,\n",
       " 185791783.662187,\n",
       " 1041279662.577232,\n",
       " 1331042418.9704483,\n",
       " 729100633.9866452,\n",
       " 3760206.2500000005]"
      ]
     },
     "execution_count": 23,
     "metadata": {},
     "output_type": "execute_result"
    }
   ],
   "source": [
    "sales = []\n",
    "for agent in sales_agents:     \n",
    "    sales.append(df[df['sales_agent_name'] == agent]['sales_usd'].sum())\n",
    "sales\n",
    "#[df['sales_agent_name'] == 'Uriel Antuna']['sales_usd'].sum()"
   ]
  },
  {
   "cell_type": "code",
   "execution_count": 24,
   "metadata": {
    "scrolled": true
   },
   "outputs": [
    {
     "data": {
      "image/png": "[encoded data removed]",
      "text/plain": [
       "<Figure size 432x288 with 1 Axes>"
      ]
     },
     "metadata": {
      "needs_background": "light"
     },
     "output_type": "display_data"
    }
   ],
   "source": [
    "fig = plt.figure()\n",
    "ax = fig.add_axes([0,0,1,1])\n",
    "ax.bar(sales_agents, sales)\n",
    "plt.xticks(rotation=90)\n",
    "plt.show()"
   ]
  },
  {
   "cell_type": "code",
   "execution_count": 25,
   "metadata": {},
   "outputs": [],
   "source": [
    "# s_pa = []\n",
    "# fig = plt.figure()\n",
    "# width = 0.7\n",
    "# ax = fig.add_axes([0,0,1,1])\n",
    "# ind = sales_agents\n",
    "# for product in list_products[0:10]:        \n",
    "#     for agent in sales_agents:\n",
    "#         s_pa.append(df[(df['sales_agent_name'] == agent) & (df['product_description'] == product)][\"sales_usd\"].sum())\n",
    "        \n",
    "\n",
    "                \n",
    "#     ax.bar(ind, s_pa, width)\n",
    "    \n",
    "#     s_pa = [] \n",
    "# ax.set_xticks(ind, ('G1', 'G2', 'G3', 'G4', 'G5','G6', 'G7','G8'))    \n",
    "# ax.legend(labels= list_products) \n",
    "# ax.set_ylim((0, 1E9))\n",
    "# plt.xticks(rotation=90)\n",
    "# plt.show()\n"
   ]
  },
  {
   "cell_type": "code",
   "execution_count": 26,
   "metadata": {},
   "outputs": [],
   "source": [
    "s_pa = []\n",
    "width = 0.7\n",
    "ind = sales_agents\n",
    "for product in list_products[0:10]:        \n",
    "    for agent in sales_agents:\n",
    "        s_pa.append(df[(df['sales_agent_name'] == agent) & (df['product_description'] == product)][\"sales_usd\"].sum())"
   ]
  },
  {
   "cell_type": "code",
   "execution_count": 27,
   "metadata": {},
   "outputs": [],
   "source": [
    "list_new = np.array_split(s_pa,10)"
   ]
  },
  {
   "cell_type": "code",
   "execution_count": 28,
   "metadata": {},
   "outputs": [
    {
     "data": {
      "text/plain": [
       "array([2.63067652e+08, 8.14226442e+07, 6.25688268e+06, 0.00000000e+00,\n",
       "       1.19318021e+08, 6.04218530e+06, 7.43939874e+06, 0.00000000e+00])"
      ]
     },
     "execution_count": 28,
     "metadata": {},
     "output_type": "execute_result"
    }
   ],
   "source": [
    "list_new[0]"
   ]
  },
  {
   "cell_type": "code",
   "execution_count": 29,
   "metadata": {},
   "outputs": [
    {
     "data": {
      "text/plain": [
       "<matplotlib.legend.Legend at 0x1d2be7ea080>"
      ]
     },
     "execution_count": 29,
     "metadata": {},
     "output_type": "execute_result"
    },
    {
     "data": {
      "image/png": "[encoded data removed]",
      "text/plain": [
       "<Figure size 432x288 with 1 Axes>"
      ]
     },
     "metadata": {
      "needs_background": "light"
     },
     "output_type": "display_data"
    }
   ],
   "source": [
    "plotdata = pd.DataFrame({\n",
    "    \"Producto G\":list_new[0],\n",
    "    \"Producto E\":list_new[1],\n",
    "    \"Producto F\":list_new[2],\n",
    "    \"Producto H\":list_new[3],\n",
    "    \"Producto C\":list_new[4],\n",
    "    \"Producto D\":list_new[5],\n",
    "    \"Producto I\":list_new[6],\n",
    "    \"Producto A\":list_new[7],\n",
    "    \"Producto B\":list_new[8],\n",
    "    \"Producto 3\":list_new[9],  \n",
    "    }, \n",
    "    index = sales_agents\n",
    ")\n",
    "\n",
    "plotdata.plot(kind='bar', stacked=True, width = 0.9, legend = True, title = 'sales by agent by product')\n",
    "plt.legend(loc=1, prop={'size': 6})"
   ]
  },
  {
   "cell_type": "code",
   "execution_count": 30,
   "metadata": {},
   "outputs": [],
   "source": [
    "s_pa = []\n",
    "width = 0.7\n",
    "ind = sales_agents\n",
    "for client in list_clients:        \n",
    "    for agent in sales_agents:\n",
    "        s_pa.append(df[(df['sales_agent_name'] == agent) & (df['client_name'] == client)][\"sales_usd\"].sum())"
   ]
  },
  {
   "cell_type": "code",
   "execution_count": 31,
   "metadata": {},
   "outputs": [],
   "source": [
    "list_new = np.array_split(s_pa, 7)"
   ]
  },
  {
   "cell_type": "code",
   "execution_count": 32,
   "metadata": {},
   "outputs": [
    {
     "data": {
      "text/plain": [
       "<matplotlib.legend.Legend at 0x1d2be909cc0>"
      ]
     },
     "execution_count": 32,
     "metadata": {},
     "output_type": "execute_result"
    },
    {
     "data": {
      "image/png": "[encoded data removed]",
      "text/plain": [
       "<Figure size 432x288 with 1 Axes>"
      ]
     },
     "metadata": {
      "needs_background": "light"
     },
     "output_type": "display_data"
    }
   ],
   "source": [
    "plotdata = pd.DataFrame({\n",
    "    \"Pescaditos \":list_new[0],\n",
    "    \"Carros y refas\":list_new[1],\n",
    "    \"Carpinteros Unidos\":list_new[2],\n",
    "    \"Quesadillas\":list_new[3],\n",
    "    \"Libros al por mayor\":list_new[4],\n",
    "    \"Jamonsitos\":list_new[5],\n",
    "    \"Arbolitos Unidos\":list_new[6],\n",
    "  \n",
    "    }, \n",
    "    index = sales_agents\n",
    ")\n",
    "\n",
    "plotdata.plot(kind='bar', stacked=True, width = 0.9, legend = True, title = 'sales by agent by client')\n",
    "plt.legend(loc=1, prop={'size': 6})"
   ]
  },
  {
   "cell_type": "code",
   "execution_count": 33,
   "metadata": {},
   "outputs": [
    {
     "data": {
      "text/plain": [
       "265313501.19877997"
      ]
     },
     "execution_count": 33,
     "metadata": {},
     "output_type": "execute_result"
    },
    {
     "data": {
      "image/png": "[encoded data removed]",
      "text/plain": [
       "<Figure size 432x288 with 1 Axes>"
      ]
     },
     "metadata": {
      "needs_background": "light"
     },
     "output_type": "display_data"
    }
   ],
   "source": [
    "plt.fill_between( df[df[\"sales_agent_name\"] == \"Guillermo Ochoa\"][\"date\"].sort_values(), df[df[\"sales_agent_name\"] == \"Guillermo Ochoa\"][\"sales_usd\"].cumsum() , color=\"skyblue\", alpha=0.3)\n",
    "plt.plot(df[df[\"sales_agent_name\"] == \"Guillermo Ochoa\"][\"date\"],(df[df[\"sales_agent_name\"] == \"Guillermo Ochoa\"][\"sales_usd\"].cumsum())) \n",
    "df[df[\"sales_agent_name\"] == \"Guillermo Ochoa\"][\"sales_usd\"][0:-1].sum()"
   ]
  },
  {
   "cell_type": "code",
   "execution_count": 34,
   "metadata": {
    "scrolled": true
   },
   "outputs": [
    {
     "data": {
      "text/plain": [
       "<seaborn.axisgrid.FacetGrid at 0x1d2becadd68>"
      ]
     },
     "execution_count": 34,
     "metadata": {},
     "output_type": "execute_result"
    },
    {
     "data": {
      "image/png": "[encoded data removed]",
      "text/plain": [
       "<Figure size 360x360 with 1 Axes>"
      ]
     },
     "metadata": {
      "needs_background": "light"
     },
     "output_type": "display_data"
    }
   ],
   "source": [
    "sns.relplot(x = 'date', y = 'sales_usd', data = df[df[\"sales_agent_name\"] == \"Guillermo Ochoa\"])"
   ]
  },
  {
   "cell_type": "code",
   "execution_count": 35,
   "metadata": {
    "scrolled": true
   },
   "outputs": [
    {
     "data": {
      "text/plain": [
       "<seaborn.axisgrid.FacetGrid at 0x1d2bed19898>"
      ]
     },
     "execution_count": 35,
     "metadata": {},
     "output_type": "execute_result"
    },
    {
     "data": {
      "image/png": "[encoded data removed]",
      "text/plain": [
       "<Figure size 360x360 with 1 Axes>"
      ]
     },
     "metadata": {
      "needs_background": "light"
     },
     "output_type": "display_data"
    }
   ],
   "source": [
    "sns.relplot(x = 'date', y = 'sales_usd', data = df[df[\"sales_agent_name\"] == \"Rodolfo Pizarro\"])"
   ]
  },
  {
   "cell_type": "code",
   "execution_count": 36,
   "metadata": {},
   "outputs": [
    {
     "data": {
      "text/plain": [
       "728587048.9616452"
      ]
     },
     "execution_count": 36,
     "metadata": {},
     "output_type": "execute_result"
    },
    {
     "data": {
      "image/png": "[encoded data removed]",
      "text/plain": [
       "<Figure size 432x288 with 1 Axes>"
      ]
     },
     "metadata": {
      "needs_background": "light"
     },
     "output_type": "display_data"
    }
   ],
   "source": [
    "plt.fill_between( df[df[\"sales_agent_name\"] == \"Rodolfo Pizarro\"][\"date\"].sort_values(), df[df[\"sales_agent_name\"] == \"Rodolfo Pizarro\"][\"sales_usd\"].cumsum() , color=\"skyblue\", alpha=0.3)\n",
    "plt.plot(df[df[\"sales_agent_name\"] == \"Rodolfo Pizarro\"][\"date\"],(df[df[\"sales_agent_name\"] == \"Rodolfo Pizarro\"][\"sales_usd\"].cumsum())) \n",
    "df[df[\"sales_agent_name\"] == \"Rodolfo Pizarro\"][\"sales_usd\"][0:-1].sum()"
   ]
  },
  {
   "cell_type": "code",
   "execution_count": 37,
   "metadata": {},
   "outputs": [
    {
     "data": {
      "text/plain": [
       "<seaborn.axisgrid.FacetGrid at 0x1d2bedf3278>"
      ]
     },
     "execution_count": 37,
     "metadata": {},
     "output_type": "execute_result"
    },
    {
     "data": {
      "image/png": "[encoded data removed]",
      "text/plain": [
       "<Figure size 360x360 with 1 Axes>"
      ]
     },
     "metadata": {
      "needs_background": "light"
     },
     "output_type": "display_data"
    }
   ],
   "source": [
    "sns.relplot(x = 'date', y = 'sales_usd', data = df[df[\"sales_agent_name\"] == \"Raul Jimenez\"])"
   ]
  },
  {
   "cell_type": "code",
   "execution_count": 38,
   "metadata": {},
   "outputs": [
    {
     "data": {
      "text/plain": [
       "728587048.9616452"
      ]
     },
     "execution_count": 38,
     "metadata": {},
     "output_type": "execute_result"
    },
    {
     "data": {
      "image/png": "[encoded data removed]",
      "text/plain": [
       "<Figure size 432x288 with 1 Axes>"
      ]
     },
     "metadata": {
      "needs_background": "light"
     },
     "output_type": "display_data"
    }
   ],
   "source": [
    "plt.plot(df[df[\"sales_agent_name\"] == \"Raul Jimenez\"][\"date\"],(df[df[\"sales_agent_name\"] == \"Raul Jimenez\"][\"sales_usd\"].cumsum())) \n",
    "df[df[\"sales_agent_name\"] == \"Rodolfo Pizarro\"][\"sales_usd\"][0:-1].sum()"
   ]
  },
  {
   "cell_type": "code",
   "execution_count": 39,
   "metadata": {},
   "outputs": [
    {
     "data": {
      "text/plain": [
       "728587048.9616452"
      ]
     },
     "execution_count": 39,
     "metadata": {},
     "output_type": "execute_result"
    },
    {
     "data": {
      "image/png": "[encoded data removed]",
      "text/plain": [
       "<Figure size 432x288 with 1 Axes>"
      ]
     },
     "metadata": {
      "needs_background": "light"
     },
     "output_type": "display_data"
    }
   ],
   "source": [
    "plt.fill_between( df[df[\"sales_agent_name\"] == \"Raul Jimenez\"][\"date\"].sort_values(), df[df[\"sales_agent_name\"] == \"Raul Jimenez\"][\"sales_usd\"].cumsum() , color=\"skyblue\", alpha=0.3)\n",
    "plt.plot(df[df[\"sales_agent_name\"] == \"Raul Jimenez\"][\"date\"].sort_values(),(df[df[\"sales_agent_name\"] == \"Raul Jimenez\"][\"sales_usd\"].cumsum())) \n",
    "df[df[\"sales_agent_name\"] == \"Rodolfo Pizarro\"][\"sales_usd\"][0:-1].sum()"
   ]
  },
  {
   "cell_type": "code",
   "execution_count": 40,
   "metadata": {
    "scrolled": true
   },
   "outputs": [
    {
     "data": {
      "text/plain": [
       "<seaborn.axisgrid.FacetGrid at 0x1d2bef17438>"
      ]
     },
     "execution_count": 40,
     "metadata": {},
     "output_type": "execute_result"
    },
    {
     "data": {
      "image/png": "[encoded data removed]",
      "text/plain": [
       "<Figure size 360x360 with 1 Axes>"
      ]
     },
     "metadata": {
      "needs_background": "light"
     },
     "output_type": "display_data"
    }
   ],
   "source": [
    "sns.relplot(x = 'date', y = 'sales_usd', data = df[df[\"sales_agent_name\"] == \"Miguel Layún\"])"
   ]
  },
  {
   "cell_type": "code",
   "execution_count": 41,
   "metadata": {},
   "outputs": [
    {
     "data": {
      "text/plain": [
       "3730583.4719000002"
      ]
     },
     "execution_count": 41,
     "metadata": {},
     "output_type": "execute_result"
    },
    {
     "data": {
      "image/png": "[encoded data removed]",
      "text/plain": [
       "<Figure size 432x288 with 1 Axes>"
      ]
     },
     "metadata": {
      "needs_background": "light"
     },
     "output_type": "display_data"
    }
   ],
   "source": [
    "plt.fill_between( df[df[\"sales_agent_name\"] == \"Miguel Layún\"][\"date\"].sort_values(), df[df[\"sales_agent_name\"] == \"Miguel Layún\"][\"sales_usd\"].cumsum() , color=\"skyblue\", alpha=0.3)\n",
    "plt.plot(df[df[\"sales_agent_name\"] == \"Miguel Layún\"][\"date\"].sort_values(),(df[df[\"sales_agent_name\"] == \"Miguel Layún\"][\"sales_usd\"].cumsum())) \n",
    "df[df[\"sales_agent_name\"] == \"Miguel Layún\"][\"sales_usd\"][0:-1].sum()"
   ]
  },
  {
   "cell_type": "code",
   "execution_count": 42,
   "metadata": {
    "scrolled": true
   },
   "outputs": [
    {
     "data": {
      "text/plain": [
       "<seaborn.axisgrid.FacetGrid at 0x1d2bef752e8>"
      ]
     },
     "execution_count": 42,
     "metadata": {},
     "output_type": "execute_result"
    },
    {
     "data": {
      "image/png": "[encoded data removed]",
      "text/plain": [
       "<Figure size 360x360 with 1 Axes>"
      ]
     },
     "metadata": {
      "needs_background": "light"
     },
     "output_type": "display_data"
    }
   ],
   "source": [
    "sns.relplot(x = 'date', y = 'sales_usd', data = df[df[\"sales_agent_name\"] == \"Edson Álvarez\"])"
   ]
  },
  {
   "cell_type": "code",
   "execution_count": 43,
   "metadata": {},
   "outputs": [
    {
     "data": {
      "text/plain": [
       "1039600270.837232"
      ]
     },
     "execution_count": 43,
     "metadata": {},
     "output_type": "execute_result"
    },
    {
     "data": {
      "image/png": "[encoded data removed]",
      "text/plain": [
       "<Figure size 432x288 with 1 Axes>"
      ]
     },
     "metadata": {
      "needs_background": "light"
     },
     "output_type": "display_data"
    }
   ],
   "source": [
    "plt.fill_between( df[df[\"sales_agent_name\"] == \"Edson Álvarez\"][\"date\"].sort_values(), df[df[\"sales_agent_name\"] == \"Edson Álvarez\"][\"sales_usd\"].cumsum() , color=\"skyblue\", alpha=0.3)\n",
    "plt.plot(df[df[\"sales_agent_name\"] == \"Edson Álvarez\"][\"date\"].sort_values(),(df[df[\"sales_agent_name\"] == \"Edson Álvarez\"][\"sales_usd\"].cumsum())) \n",
    "df[df[\"sales_agent_name\"] == \"Edson Álvarez\"][\"sales_usd\"][0:-1].sum()"
   ]
  },
  {
   "cell_type": "code",
   "execution_count": 44,
   "metadata": {
    "scrolled": true
   },
   "outputs": [
    {
     "data": {
      "text/plain": [
       "<seaborn.axisgrid.FacetGrid at 0x1d2bee59208>"
      ]
     },
     "execution_count": 44,
     "metadata": {},
     "output_type": "execute_result"
    },
    {
     "data": {
      "image/png": "[encoded data removed]",
      "text/plain": [
       "<Figure size 360x360 with 1 Axes>"
      ]
     },
     "metadata": {
      "needs_background": "light"
     },
     "output_type": "display_data"
    }
   ],
   "source": [
    "sns.relplot(x = 'date', y = 'sales_usd', data = df[df[\"sales_agent_name\"] == \"Jose Juan Macias\"])"
   ]
  },
  {
   "cell_type": "code",
   "execution_count": 45,
   "metadata": {},
   "outputs": [
    {
     "data": {
      "text/plain": [
       "686924208.302179"
      ]
     },
     "execution_count": 45,
     "metadata": {},
     "output_type": "execute_result"
    },
    {
     "data": {
      "image/png": "[encoded data removed]",
      "text/plain": [
       "<Figure size 432x288 with 1 Axes>"
      ]
     },
     "metadata": {
      "needs_background": "light"
     },
     "output_type": "display_data"
    }
   ],
   "source": [
    "plt.fill_between( df[df[\"sales_agent_name\"] == \"Jose Juan Macias\"][\"date\"].sort_values(), df[df[\"sales_agent_name\"] == \"Jose Juan Macias\"][\"sales_usd\"].cumsum() , color=\"skyblue\", alpha=0.3)\n",
    "plt.plot(df[df[\"sales_agent_name\"] == \"Jose Juan Macias\"][\"date\"].sort_values(),(df[df[\"sales_agent_name\"] == \"Jose Juan Macias\"][\"sales_usd\"].cumsum())) \n",
    "df[df[\"sales_agent_name\"] == \"Jose Juan Macias\"][\"sales_usd\"][0:-1].sum()"
   ]
  },
  {
   "cell_type": "code",
   "execution_count": 46,
   "metadata": {
    "scrolled": true
   },
   "outputs": [
    {
     "data": {
      "text/plain": [
       "<seaborn.axisgrid.FacetGrid at 0x1d2be8336d8>"
      ]
     },
     "execution_count": 46,
     "metadata": {},
     "output_type": "execute_result"
    },
    {
     "data": {
      "image/png": "[encoded data removed]",
      "text/plain": [
       "<Figure size 360x360 with 1 Axes>"
      ]
     },
     "metadata": {
      "needs_background": "light"
     },
     "output_type": "display_data"
    }
   ],
   "source": [
    "sns.relplot(x = 'date', y = 'sales_usd', data = df[df[\"sales_agent_name\"] == \"Uriel Antuna\"])"
   ]
  },
  {
   "cell_type": "code",
   "execution_count": 47,
   "metadata": {},
   "outputs": [
    {
     "data": {
      "text/plain": [
       "1330848319.5887482"
      ]
     },
     "execution_count": 47,
     "metadata": {},
     "output_type": "execute_result"
    },
    {
     "data": {
      "image/png": "[encoded data removed]",
      "text/plain": [
       "<Figure size 432x288 with 1 Axes>"
      ]
     },
     "metadata": {
      "needs_background": "light"
     },
     "output_type": "display_data"
    }
   ],
   "source": [
    "plt.fill_between( df[df[\"sales_agent_name\"] == \"Uriel Antuna\"][\"date\"].sort_values(), df[df[\"sales_agent_name\"] == \"Uriel Antuna\"][\"sales_usd\"].cumsum() , color=\"skyblue\", alpha=0.3)\n",
    "plt.plot(df[df[\"sales_agent_name\"] == \"Uriel Antuna\"][\"date\"].sort_values(),(df[df[\"sales_agent_name\"] == \"Uriel Antuna\"][\"sales_usd\"].cumsum())) \n",
    "df[df[\"sales_agent_name\"] == \"Uriel Antuna\"][\"sales_usd\"][0:-1].sum()"
   ]
  },
  {
   "cell_type": "code",
   "execution_count": 48,
   "metadata": {
    "scrolled": true
   },
   "outputs": [
    {
     "data": {
      "text/plain": [
       "<seaborn.axisgrid.FacetGrid at 0x1d2bffe90b8>"
      ]
     },
     "execution_count": 48,
     "metadata": {},
     "output_type": "execute_result"
    },
    {
     "data": {
      "image/png": "[encoded data removed]",
      "text/plain": [
       "<Figure size 360x360 with 1 Axes>"
      ]
     },
     "metadata": {
      "needs_background": "light"
     },
     "output_type": "display_data"
    }
   ],
   "source": [
    "sns.relplot(x = 'date', y = 'sales_usd', data = df[df[\"sales_agent_name\"] == \"Santiago Gim´'enez\"])"
   ]
  },
  {
   "cell_type": "code",
   "execution_count": 49,
   "metadata": {},
   "outputs": [
    {
     "name": "stdout",
     "output_type": "stream",
     "text": [
      " el total de ventas es $ 185375489.096887  USD\n"
     ]
    },
    {
     "data": {
      "image/png": "[encoded data removed]",
      "text/plain": [
       "<Figure size 432x288 with 1 Axes>"
      ]
     },
     "metadata": {
      "needs_background": "light"
     },
     "output_type": "display_data"
    }
   ],
   "source": [
    "plt.fill_between( df[df[\"sales_agent_name\"] == \"Santiago Gim´'enez\"][\"date\"].sort_values(), df[df[\"sales_agent_name\"] == \"Santiago Gim´'enez\"][\"sales_usd\"].cumsum() , color=\"skyblue\", alpha=0.3)\n",
    "plt.plot(df[df[\"sales_agent_name\"] == \"Santiago Gim´'enez\"][\"date\"].sort_values(),(df[df[\"sales_agent_name\"] == \"Santiago Gim´'enez\"][\"sales_usd\"].cumsum())) \n",
    "print(\" el total de ventas es $\",df[df[\"sales_agent_name\"] == \"Santiago Gim´'enez\"][\"sales_usd\"][0:-1].sum(), \" USD\")"
   ]
  },
  {
   "cell_type": "code",
   "execution_count": 50,
   "metadata": {},
   "outputs": [],
   "source": [
    "df[\"date\"] = df[\"date\"] - min(df[\"date\"])"
   ]
  },
  {
   "cell_type": "code",
   "execution_count": 51,
   "metadata": {
    "scrolled": true
   },
   "outputs": [
    {
     "data": {
      "text/plain": [
       "4353"
      ]
     },
     "execution_count": 51,
     "metadata": {},
     "output_type": "execute_result"
    }
   ],
   "source": [
    "dates_list = list(df['date'])\n",
    "dates_list\n",
    "len(dates_list)"
   ]
  },
  {
   "cell_type": "code",
   "execution_count": 52,
   "metadata": {},
   "outputs": [],
   "source": [
    "#dates_list"
   ]
  },
  {
   "cell_type": "code",
   "execution_count": 53,
   "metadata": {},
   "outputs": [],
   "source": [
    "dates = {}\n",
    "count = 0 \n",
    "for i in dates_list:    \n",
    "    dates[count] = (date.fromordinal(737425 + i)).isoformat()\n",
    "    count = count + 1 \n",
    "#dates"
   ]
  },
  {
   "cell_type": "code",
   "execution_count": 54,
   "metadata": {},
   "outputs": [],
   "source": [
    "#dates.values()"
   ]
  },
  {
   "cell_type": "markdown",
   "metadata": {},
   "source": [
    "# Predictive Analysis"
   ]
  },
  {
   "cell_type": "code",
   "execution_count": 55,
   "metadata": {},
   "outputs": [],
   "source": [
    "dates = list(dates.values())"
   ]
  },
  {
   "cell_type": "code",
   "execution_count": 56,
   "metadata": {},
   "outputs": [],
   "source": [
    "#date_object = [datetime.datetime.strptime(date, '%Y-%m-%d').date() for date in dates]"
   ]
  },
  {
   "cell_type": "code",
   "execution_count": 57,
   "metadata": {},
   "outputs": [],
   "source": [
    "#df[\"dates_well\"] = date_object"
   ]
  },
  {
   "cell_type": "code",
   "execution_count": 58,
   "metadata": {},
   "outputs": [],
   "source": [
    "df[\"dates_well\"] = dates "
   ]
  },
  {
   "cell_type": "code",
   "execution_count": 59,
   "metadata": {},
   "outputs": [
    {
     "data": {
      "text/plain": [
       "pandas.core.series.Series"
      ]
     },
     "execution_count": 59,
     "metadata": {},
     "output_type": "execute_result"
    }
   ],
   "source": [
    "type(df[\"dates_well\"])"
   ]
  },
  {
   "cell_type": "code",
   "execution_count": 60,
   "metadata": {
    "scrolled": true
   },
   "outputs": [
    {
     "data": {
      "text/html": [
       "<div>\n",
       "<style scoped>\n",
       "    .dataframe tbody tr th:only-of-type {\n",
       "        vertical-align: middle;\n",
       "    }\n",
       "\n",
       "    .dataframe tbody tr th {\n",
       "        vertical-align: top;\n",
       "    }\n",
       "\n",
       "    .dataframe thead th {\n",
       "        text-align: right;\n",
       "    }\n",
       "</style>\n",
       "<table border=\"1\" class=\"dataframe\">\n",
       "  <thead>\n",
       "    <tr style=\"text-align: right;\">\n",
       "      <th></th>\n",
       "      <th>date</th>\n",
       "      <th>sales_usd</th>\n",
       "      <th>product_description</th>\n",
       "      <th>client_name</th>\n",
       "      <th>sales_agent_name</th>\n",
       "      <th>dates_well</th>\n",
       "    </tr>\n",
       "  </thead>\n",
       "  <tbody>\n",
       "    <tr>\n",
       "      <th>3353</th>\n",
       "      <td>5</td>\n",
       "      <td>8.560210e+05</td>\n",
       "      <td>Producto E</td>\n",
       "      <td>Libros al por Mayor S.A.P.I de C.V.</td>\n",
       "      <td>Uriel Antuna</td>\n",
       "      <td>2020-01-06</td>\n",
       "    </tr>\n",
       "    <tr>\n",
       "      <th>3354</th>\n",
       "      <td>5</td>\n",
       "      <td>2.130158e+06</td>\n",
       "      <td>Producto E</td>\n",
       "      <td>Quesillos S.C.</td>\n",
       "      <td>Uriel Antuna</td>\n",
       "      <td>2020-01-06</td>\n",
       "    </tr>\n",
       "    <tr>\n",
       "      <th>3355</th>\n",
       "      <td>5</td>\n",
       "      <td>5.182580e+06</td>\n",
       "      <td>Producto D</td>\n",
       "      <td>Arbolitos Unidos de México S.A. de C.V.</td>\n",
       "      <td>Uriel Antuna</td>\n",
       "      <td>2020-01-06</td>\n",
       "    </tr>\n",
       "    <tr>\n",
       "      <th>3356</th>\n",
       "      <td>6</td>\n",
       "      <td>1.401958e+04</td>\n",
       "      <td>Producto G</td>\n",
       "      <td>Quesillos S.C.</td>\n",
       "      <td>Uriel Antuna</td>\n",
       "      <td>2020-01-07</td>\n",
       "    </tr>\n",
       "    <tr>\n",
       "      <th>3357</th>\n",
       "      <td>6</td>\n",
       "      <td>1.881073e+04</td>\n",
       "      <td>Producto E</td>\n",
       "      <td>Pescaditos SA de CV</td>\n",
       "      <td>Uriel Antuna</td>\n",
       "      <td>2020-01-07</td>\n",
       "    </tr>\n",
       "    <tr>\n",
       "      <th>3358</th>\n",
       "      <td>6</td>\n",
       "      <td>2.634201e+04</td>\n",
       "      <td>Producto E</td>\n",
       "      <td>Pescaditos SA de CV</td>\n",
       "      <td>Uriel Antuna</td>\n",
       "      <td>2020-01-07</td>\n",
       "    </tr>\n",
       "    <tr>\n",
       "      <th>3359</th>\n",
       "      <td>6</td>\n",
       "      <td>6.003392e+04</td>\n",
       "      <td>Producto G</td>\n",
       "      <td>Jamonsitos SAPI de CV</td>\n",
       "      <td>Uriel Antuna</td>\n",
       "      <td>2020-01-07</td>\n",
       "    </tr>\n",
       "    <tr>\n",
       "      <th>3360</th>\n",
       "      <td>6</td>\n",
       "      <td>1.114311e+05</td>\n",
       "      <td>Producto H</td>\n",
       "      <td>Pescaditos SA de CV</td>\n",
       "      <td>Uriel Antuna</td>\n",
       "      <td>2020-01-07</td>\n",
       "    </tr>\n",
       "    <tr>\n",
       "      <th>3361</th>\n",
       "      <td>6</td>\n",
       "      <td>2.824597e+05</td>\n",
       "      <td>Producto E</td>\n",
       "      <td>Arbolitos Unidos de México S.A. de C.V.</td>\n",
       "      <td>Uriel Antuna</td>\n",
       "      <td>2020-01-07</td>\n",
       "    </tr>\n",
       "    <tr>\n",
       "      <th>3362</th>\n",
       "      <td>6</td>\n",
       "      <td>3.152304e+05</td>\n",
       "      <td>Producto E</td>\n",
       "      <td>Jamonsitos SAPI de CV</td>\n",
       "      <td>Uriel Antuna</td>\n",
       "      <td>2020-01-07</td>\n",
       "    </tr>\n",
       "    <tr>\n",
       "      <th>3363</th>\n",
       "      <td>6</td>\n",
       "      <td>1.225087e+06</td>\n",
       "      <td>Producto E</td>\n",
       "      <td>Libros al por Mayor S.A.P.I de C.V.</td>\n",
       "      <td>Uriel Antuna</td>\n",
       "      <td>2020-01-07</td>\n",
       "    </tr>\n",
       "    <tr>\n",
       "      <th>3364</th>\n",
       "      <td>6</td>\n",
       "      <td>1.263163e+06</td>\n",
       "      <td>Producto E</td>\n",
       "      <td>Quesillos S.C.</td>\n",
       "      <td>Uriel Antuna</td>\n",
       "      <td>2020-01-07</td>\n",
       "    </tr>\n",
       "    <tr>\n",
       "      <th>3365</th>\n",
       "      <td>7</td>\n",
       "      <td>1.420652e+04</td>\n",
       "      <td>Producto G</td>\n",
       "      <td>Quesillos S.C.</td>\n",
       "      <td>Uriel Antuna</td>\n",
       "      <td>2020-01-08</td>\n",
       "    </tr>\n",
       "    <tr>\n",
       "      <th>3366</th>\n",
       "      <td>7</td>\n",
       "      <td>2.337047e+05</td>\n",
       "      <td>Producto E</td>\n",
       "      <td>Pescaditos SA de CV</td>\n",
       "      <td>Uriel Antuna</td>\n",
       "      <td>2020-01-08</td>\n",
       "    </tr>\n",
       "    <tr>\n",
       "      <th>3367</th>\n",
       "      <td>7</td>\n",
       "      <td>1.083232e+06</td>\n",
       "      <td>Producto E</td>\n",
       "      <td>Carros y Refacciones del Centro S.A. de C.V.</td>\n",
       "      <td>Uriel Antuna</td>\n",
       "      <td>2020-01-08</td>\n",
       "    </tr>\n",
       "    <tr>\n",
       "      <th>3368</th>\n",
       "      <td>7</td>\n",
       "      <td>1.218525e+06</td>\n",
       "      <td>Producto E</td>\n",
       "      <td>Carros y Refacciones del Centro S.A. de C.V.</td>\n",
       "      <td>Uriel Antuna</td>\n",
       "      <td>2020-01-08</td>\n",
       "    </tr>\n",
       "    <tr>\n",
       "      <th>3369</th>\n",
       "      <td>7</td>\n",
       "      <td>1.296024e+06</td>\n",
       "      <td>Producto E</td>\n",
       "      <td>Quesillos S.C.</td>\n",
       "      <td>Uriel Antuna</td>\n",
       "      <td>2020-01-08</td>\n",
       "    </tr>\n",
       "    <tr>\n",
       "      <th>3370</th>\n",
       "      <td>8</td>\n",
       "      <td>-4.166761e+04</td>\n",
       "      <td>Producto E</td>\n",
       "      <td>Jamonsitos SAPI de CV</td>\n",
       "      <td>Uriel Antuna</td>\n",
       "      <td>2020-01-09</td>\n",
       "    </tr>\n",
       "    <tr>\n",
       "      <th>3371</th>\n",
       "      <td>8</td>\n",
       "      <td>8.811677e+03</td>\n",
       "      <td>Producto G</td>\n",
       "      <td>Quesillos S.C.</td>\n",
       "      <td>Uriel Antuna</td>\n",
       "      <td>2020-01-09</td>\n",
       "    </tr>\n",
       "    <tr>\n",
       "      <th>3372</th>\n",
       "      <td>8</td>\n",
       "      <td>2.995776e+04</td>\n",
       "      <td>Producto E</td>\n",
       "      <td>Pescaditos SA de CV</td>\n",
       "      <td>Uriel Antuna</td>\n",
       "      <td>2020-01-09</td>\n",
       "    </tr>\n",
       "    <tr>\n",
       "      <th>3373</th>\n",
       "      <td>8</td>\n",
       "      <td>2.451341e+05</td>\n",
       "      <td>Producto E</td>\n",
       "      <td>Carros y Refacciones del Centro S.A. de C.V.</td>\n",
       "      <td>Uriel Antuna</td>\n",
       "      <td>2020-01-09</td>\n",
       "    </tr>\n",
       "    <tr>\n",
       "      <th>3374</th>\n",
       "      <td>8</td>\n",
       "      <td>4.588598e+05</td>\n",
       "      <td>Producto I</td>\n",
       "      <td>Libros al por Mayor S.A.P.I de C.V.</td>\n",
       "      <td>Uriel Antuna</td>\n",
       "      <td>2020-01-09</td>\n",
       "    </tr>\n",
       "    <tr>\n",
       "      <th>3375</th>\n",
       "      <td>8</td>\n",
       "      <td>1.089674e+06</td>\n",
       "      <td>Producto G</td>\n",
       "      <td>Jamonsitos SAPI de CV</td>\n",
       "      <td>Uriel Antuna</td>\n",
       "      <td>2020-01-09</td>\n",
       "    </tr>\n",
       "    <tr>\n",
       "      <th>3376</th>\n",
       "      <td>8</td>\n",
       "      <td>1.154589e+06</td>\n",
       "      <td>Producto E</td>\n",
       "      <td>Pescaditos SA de CV</td>\n",
       "      <td>Uriel Antuna</td>\n",
       "      <td>2020-01-09</td>\n",
       "    </tr>\n",
       "    <tr>\n",
       "      <th>3377</th>\n",
       "      <td>8</td>\n",
       "      <td>1.229954e+06</td>\n",
       "      <td>Producto E</td>\n",
       "      <td>Quesillos S.C.</td>\n",
       "      <td>Uriel Antuna</td>\n",
       "      <td>2020-01-09</td>\n",
       "    </tr>\n",
       "    <tr>\n",
       "      <th>3378</th>\n",
       "      <td>9</td>\n",
       "      <td>5.728577e+03</td>\n",
       "      <td>Producto G</td>\n",
       "      <td>Quesillos S.C.</td>\n",
       "      <td>Uriel Antuna</td>\n",
       "      <td>2020-01-10</td>\n",
       "    </tr>\n",
       "    <tr>\n",
       "      <th>3379</th>\n",
       "      <td>9</td>\n",
       "      <td>6.764968e+03</td>\n",
       "      <td>Producto E</td>\n",
       "      <td>Pescaditos SA de CV</td>\n",
       "      <td>Uriel Antuna</td>\n",
       "      <td>2020-01-10</td>\n",
       "    </tr>\n",
       "    <tr>\n",
       "      <th>3380</th>\n",
       "      <td>9</td>\n",
       "      <td>1.259911e+06</td>\n",
       "      <td>Producto E</td>\n",
       "      <td>Pescaditos SA de CV</td>\n",
       "      <td>Uriel Antuna</td>\n",
       "      <td>2020-01-10</td>\n",
       "    </tr>\n",
       "    <tr>\n",
       "      <th>3381</th>\n",
       "      <td>9</td>\n",
       "      <td>1.701328e+06</td>\n",
       "      <td>Producto E</td>\n",
       "      <td>Quesillos S.C.</td>\n",
       "      <td>Uriel Antuna</td>\n",
       "      <td>2020-01-10</td>\n",
       "    </tr>\n",
       "    <tr>\n",
       "      <th>3382</th>\n",
       "      <td>9</td>\n",
       "      <td>1.866946e+06</td>\n",
       "      <td>Producto E</td>\n",
       "      <td>Carros y Refacciones del Centro S.A. de C.V.</td>\n",
       "      <td>Uriel Antuna</td>\n",
       "      <td>2020-01-10</td>\n",
       "    </tr>\n",
       "    <tr>\n",
       "      <th>...</th>\n",
       "      <td>...</td>\n",
       "      <td>...</td>\n",
       "      <td>...</td>\n",
       "      <td>...</td>\n",
       "      <td>...</td>\n",
       "      <td>...</td>\n",
       "    </tr>\n",
       "    <tr>\n",
       "      <th>4323</th>\n",
       "      <td>262</td>\n",
       "      <td>6.957766e+05</td>\n",
       "      <td>Producto E</td>\n",
       "      <td>Carros y Refacciones del Centro S.A. de C.V.</td>\n",
       "      <td>Rodolfo Pizarro</td>\n",
       "      <td>2020-09-19</td>\n",
       "    </tr>\n",
       "    <tr>\n",
       "      <th>4324</th>\n",
       "      <td>264</td>\n",
       "      <td>2.990467e+04</td>\n",
       "      <td>Producto E</td>\n",
       "      <td>Quesillos S.C.</td>\n",
       "      <td>Rodolfo Pizarro</td>\n",
       "      <td>2020-09-21</td>\n",
       "    </tr>\n",
       "    <tr>\n",
       "      <th>4325</th>\n",
       "      <td>264</td>\n",
       "      <td>7.083969e+05</td>\n",
       "      <td>Producto E</td>\n",
       "      <td>Carros y Refacciones del Centro S.A. de C.V.</td>\n",
       "      <td>Rodolfo Pizarro</td>\n",
       "      <td>2020-09-21</td>\n",
       "    </tr>\n",
       "    <tr>\n",
       "      <th>4326</th>\n",
       "      <td>264</td>\n",
       "      <td>9.683328e+05</td>\n",
       "      <td>Producto E</td>\n",
       "      <td>Carpinteros Unidos del Bajio</td>\n",
       "      <td>Rodolfo Pizarro</td>\n",
       "      <td>2020-09-21</td>\n",
       "    </tr>\n",
       "    <tr>\n",
       "      <th>4327</th>\n",
       "      <td>265</td>\n",
       "      <td>4.520894e+06</td>\n",
       "      <td>Producto E</td>\n",
       "      <td>Carpinteros Unidos del Bajio</td>\n",
       "      <td>Rodolfo Pizarro</td>\n",
       "      <td>2020-09-22</td>\n",
       "    </tr>\n",
       "    <tr>\n",
       "      <th>4328</th>\n",
       "      <td>266</td>\n",
       "      <td>1.135873e+06</td>\n",
       "      <td>Producto E</td>\n",
       "      <td>Carpinteros Unidos del Bajio</td>\n",
       "      <td>Rodolfo Pizarro</td>\n",
       "      <td>2020-09-23</td>\n",
       "    </tr>\n",
       "    <tr>\n",
       "      <th>4329</th>\n",
       "      <td>266</td>\n",
       "      <td>1.741538e+06</td>\n",
       "      <td>Producto D</td>\n",
       "      <td>Pescaditos SA de CV</td>\n",
       "      <td>Rodolfo Pizarro</td>\n",
       "      <td>2020-09-23</td>\n",
       "    </tr>\n",
       "    <tr>\n",
       "      <th>4330</th>\n",
       "      <td>267</td>\n",
       "      <td>3.732817e+04</td>\n",
       "      <td>Producto E</td>\n",
       "      <td>Quesillos S.C.</td>\n",
       "      <td>Rodolfo Pizarro</td>\n",
       "      <td>2020-09-24</td>\n",
       "    </tr>\n",
       "    <tr>\n",
       "      <th>4331</th>\n",
       "      <td>267</td>\n",
       "      <td>3.561653e+06</td>\n",
       "      <td>Producto E</td>\n",
       "      <td>Carpinteros Unidos del Bajio</td>\n",
       "      <td>Rodolfo Pizarro</td>\n",
       "      <td>2020-09-24</td>\n",
       "    </tr>\n",
       "    <tr>\n",
       "      <th>4332</th>\n",
       "      <td>268</td>\n",
       "      <td>2.119033e+03</td>\n",
       "      <td>Producto E</td>\n",
       "      <td>Arbolitos Unidos de México S.A. de C.V.</td>\n",
       "      <td>Rodolfo Pizarro</td>\n",
       "      <td>2020-09-25</td>\n",
       "    </tr>\n",
       "    <tr>\n",
       "      <th>4333</th>\n",
       "      <td>268</td>\n",
       "      <td>2.517693e+05</td>\n",
       "      <td>Producto E</td>\n",
       "      <td>Carros y Refacciones del Centro S.A. de C.V.</td>\n",
       "      <td>Rodolfo Pizarro</td>\n",
       "      <td>2020-09-25</td>\n",
       "    </tr>\n",
       "    <tr>\n",
       "      <th>4334</th>\n",
       "      <td>268</td>\n",
       "      <td>1.722684e+06</td>\n",
       "      <td>Producto E</td>\n",
       "      <td>Carpinteros Unidos del Bajio</td>\n",
       "      <td>Rodolfo Pizarro</td>\n",
       "      <td>2020-09-25</td>\n",
       "    </tr>\n",
       "    <tr>\n",
       "      <th>4335</th>\n",
       "      <td>268</td>\n",
       "      <td>7.965883e+06</td>\n",
       "      <td>Producto D</td>\n",
       "      <td>Libros al por Mayor S.A.P.I de C.V.</td>\n",
       "      <td>Rodolfo Pizarro</td>\n",
       "      <td>2020-09-25</td>\n",
       "    </tr>\n",
       "    <tr>\n",
       "      <th>4336</th>\n",
       "      <td>269</td>\n",
       "      <td>4.127453e+05</td>\n",
       "      <td>Producto E</td>\n",
       "      <td>Carpinteros Unidos del Bajio</td>\n",
       "      <td>Rodolfo Pizarro</td>\n",
       "      <td>2020-09-26</td>\n",
       "    </tr>\n",
       "    <tr>\n",
       "      <th>4337</th>\n",
       "      <td>269</td>\n",
       "      <td>2.103892e+06</td>\n",
       "      <td>Producto E</td>\n",
       "      <td>Libros al por Mayor S.A.P.I de C.V.</td>\n",
       "      <td>Rodolfo Pizarro</td>\n",
       "      <td>2020-09-26</td>\n",
       "    </tr>\n",
       "    <tr>\n",
       "      <th>4338</th>\n",
       "      <td>271</td>\n",
       "      <td>6.587595e+04</td>\n",
       "      <td>Producto A</td>\n",
       "      <td>Pescaditos SA de CV</td>\n",
       "      <td>Rodolfo Pizarro</td>\n",
       "      <td>2020-09-28</td>\n",
       "    </tr>\n",
       "    <tr>\n",
       "      <th>4339</th>\n",
       "      <td>271</td>\n",
       "      <td>1.124962e+06</td>\n",
       "      <td>Producto E</td>\n",
       "      <td>Carros y Refacciones del Centro S.A. de C.V.</td>\n",
       "      <td>Rodolfo Pizarro</td>\n",
       "      <td>2020-09-28</td>\n",
       "    </tr>\n",
       "    <tr>\n",
       "      <th>4340</th>\n",
       "      <td>271</td>\n",
       "      <td>1.844139e+06</td>\n",
       "      <td>Producto E</td>\n",
       "      <td>Carpinteros Unidos del Bajio</td>\n",
       "      <td>Rodolfo Pizarro</td>\n",
       "      <td>2020-09-28</td>\n",
       "    </tr>\n",
       "    <tr>\n",
       "      <th>4341</th>\n",
       "      <td>272</td>\n",
       "      <td>1.804316e+04</td>\n",
       "      <td>Producto E</td>\n",
       "      <td>Arbolitos Unidos de México S.A. de C.V.</td>\n",
       "      <td>Rodolfo Pizarro</td>\n",
       "      <td>2020-09-29</td>\n",
       "    </tr>\n",
       "    <tr>\n",
       "      <th>4342</th>\n",
       "      <td>272</td>\n",
       "      <td>2.222944e+06</td>\n",
       "      <td>Producto D</td>\n",
       "      <td>Pescaditos SA de CV</td>\n",
       "      <td>Rodolfo Pizarro</td>\n",
       "      <td>2020-09-29</td>\n",
       "    </tr>\n",
       "    <tr>\n",
       "      <th>4343</th>\n",
       "      <td>272</td>\n",
       "      <td>3.288083e+06</td>\n",
       "      <td>Producto E</td>\n",
       "      <td>Carpinteros Unidos del Bajio</td>\n",
       "      <td>Rodolfo Pizarro</td>\n",
       "      <td>2020-09-29</td>\n",
       "    </tr>\n",
       "    <tr>\n",
       "      <th>4344</th>\n",
       "      <td>273</td>\n",
       "      <td>1.639106e+04</td>\n",
       "      <td>Producto E</td>\n",
       "      <td>Quesillos S.C.</td>\n",
       "      <td>Rodolfo Pizarro</td>\n",
       "      <td>2020-09-30</td>\n",
       "    </tr>\n",
       "    <tr>\n",
       "      <th>4345</th>\n",
       "      <td>273</td>\n",
       "      <td>1.018227e+05</td>\n",
       "      <td>Producto H</td>\n",
       "      <td>Jamonsitos SAPI de CV</td>\n",
       "      <td>Rodolfo Pizarro</td>\n",
       "      <td>2020-09-30</td>\n",
       "    </tr>\n",
       "    <tr>\n",
       "      <th>4346</th>\n",
       "      <td>273</td>\n",
       "      <td>2.143882e+05</td>\n",
       "      <td>Producto E</td>\n",
       "      <td>Jamonsitos SAPI de CV</td>\n",
       "      <td>Rodolfo Pizarro</td>\n",
       "      <td>2020-09-30</td>\n",
       "    </tr>\n",
       "    <tr>\n",
       "      <th>4347</th>\n",
       "      <td>273</td>\n",
       "      <td>3.881200e+05</td>\n",
       "      <td>Producto I</td>\n",
       "      <td>Arbolitos Unidos de México S.A. de C.V.</td>\n",
       "      <td>Rodolfo Pizarro</td>\n",
       "      <td>2020-09-30</td>\n",
       "    </tr>\n",
       "    <tr>\n",
       "      <th>4348</th>\n",
       "      <td>273</td>\n",
       "      <td>5.135850e+05</td>\n",
       "      <td>Producto E</td>\n",
       "      <td>Carpinteros Unidos del Bajio</td>\n",
       "      <td>Rodolfo Pizarro</td>\n",
       "      <td>2020-09-30</td>\n",
       "    </tr>\n",
       "    <tr>\n",
       "      <th>4349</th>\n",
       "      <td>274</td>\n",
       "      <td>3.669337e+05</td>\n",
       "      <td>Producto E</td>\n",
       "      <td>Carpinteros Unidos del Bajio</td>\n",
       "      <td>Miguel Layún</td>\n",
       "      <td>2020-10-01</td>\n",
       "    </tr>\n",
       "    <tr>\n",
       "      <th>4350</th>\n",
       "      <td>274</td>\n",
       "      <td>8.064545e+05</td>\n",
       "      <td>Producto E</td>\n",
       "      <td>Carros y Refacciones del Centro S.A. de C.V.</td>\n",
       "      <td>Miguel Layún</td>\n",
       "      <td>2020-10-01</td>\n",
       "    </tr>\n",
       "    <tr>\n",
       "      <th>4351</th>\n",
       "      <td>274</td>\n",
       "      <td>2.557195e+06</td>\n",
       "      <td>Producto D</td>\n",
       "      <td>Libros al por Mayor S.A.P.I de C.V.</td>\n",
       "      <td>Miguel Layún</td>\n",
       "      <td>2020-10-01</td>\n",
       "    </tr>\n",
       "    <tr>\n",
       "      <th>4352</th>\n",
       "      <td>275</td>\n",
       "      <td>2.962278e+04</td>\n",
       "      <td>Producto E</td>\n",
       "      <td>Quesillos S.C.</td>\n",
       "      <td>Miguel Layún</td>\n",
       "      <td>2020-10-02</td>\n",
       "    </tr>\n",
       "  </tbody>\n",
       "</table>\n",
       "<p>1000 rows × 6 columns</p>\n",
       "</div>"
      ],
      "text/plain": [
       "      date     sales_usd product_description  \\\n",
       "3353     5  8.560210e+05          Producto E   \n",
       "3354     5  2.130158e+06          Producto E   \n",
       "3355     5  5.182580e+06          Producto D   \n",
       "3356     6  1.401958e+04          Producto G   \n",
       "3357     6  1.881073e+04          Producto E   \n",
       "3358     6  2.634201e+04          Producto E   \n",
       "3359     6  6.003392e+04          Producto G   \n",
       "3360     6  1.114311e+05          Producto H   \n",
       "3361     6  2.824597e+05          Producto E   \n",
       "3362     6  3.152304e+05          Producto E   \n",
       "3363     6  1.225087e+06          Producto E   \n",
       "3364     6  1.263163e+06          Producto E   \n",
       "3365     7  1.420652e+04          Producto G   \n",
       "3366     7  2.337047e+05          Producto E   \n",
       "3367     7  1.083232e+06          Producto E   \n",
       "3368     7  1.218525e+06          Producto E   \n",
       "3369     7  1.296024e+06          Producto E   \n",
       "3370     8 -4.166761e+04          Producto E   \n",
       "3371     8  8.811677e+03          Producto G   \n",
       "3372     8  2.995776e+04          Producto E   \n",
       "3373     8  2.451341e+05          Producto E   \n",
       "3374     8  4.588598e+05          Producto I   \n",
       "3375     8  1.089674e+06          Producto G   \n",
       "3376     8  1.154589e+06          Producto E   \n",
       "3377     8  1.229954e+06          Producto E   \n",
       "3378     9  5.728577e+03          Producto G   \n",
       "3379     9  6.764968e+03          Producto E   \n",
       "3380     9  1.259911e+06          Producto E   \n",
       "3381     9  1.701328e+06          Producto E   \n",
       "3382     9  1.866946e+06          Producto E   \n",
       "...    ...           ...                 ...   \n",
       "4323   262  6.957766e+05          Producto E   \n",
       "4324   264  2.990467e+04          Producto E   \n",
       "4325   264  7.083969e+05          Producto E   \n",
       "4326   264  9.683328e+05          Producto E   \n",
       "4327   265  4.520894e+06          Producto E   \n",
       "4328   266  1.135873e+06          Producto E   \n",
       "4329   266  1.741538e+06          Producto D   \n",
       "4330   267  3.732817e+04          Producto E   \n",
       "4331   267  3.561653e+06          Producto E   \n",
       "4332   268  2.119033e+03          Producto E   \n",
       "4333   268  2.517693e+05          Producto E   \n",
       "4334   268  1.722684e+06          Producto E   \n",
       "4335   268  7.965883e+06          Producto D   \n",
       "4336   269  4.127453e+05          Producto E   \n",
       "4337   269  2.103892e+06          Producto E   \n",
       "4338   271  6.587595e+04          Producto A   \n",
       "4339   271  1.124962e+06          Producto E   \n",
       "4340   271  1.844139e+06          Producto E   \n",
       "4341   272  1.804316e+04          Producto E   \n",
       "4342   272  2.222944e+06          Producto D   \n",
       "4343   272  3.288083e+06          Producto E   \n",
       "4344   273  1.639106e+04          Producto E   \n",
       "4345   273  1.018227e+05          Producto H   \n",
       "4346   273  2.143882e+05          Producto E   \n",
       "4347   273  3.881200e+05          Producto I   \n",
       "4348   273  5.135850e+05          Producto E   \n",
       "4349   274  3.669337e+05          Producto E   \n",
       "4350   274  8.064545e+05          Producto E   \n",
       "4351   274  2.557195e+06          Producto D   \n",
       "4352   275  2.962278e+04          Producto E   \n",
       "\n",
       "                                       client_name sales_agent_name  \\\n",
       "3353           Libros al por Mayor S.A.P.I de C.V.     Uriel Antuna   \n",
       "3354                                Quesillos S.C.     Uriel Antuna   \n",
       "3355       Arbolitos Unidos de México S.A. de C.V.     Uriel Antuna   \n",
       "3356                                Quesillos S.C.     Uriel Antuna   \n",
       "3357                           Pescaditos SA de CV     Uriel Antuna   \n",
       "3358                           Pescaditos SA de CV     Uriel Antuna   \n",
       "3359                         Jamonsitos SAPI de CV     Uriel Antuna   \n",
       "3360                           Pescaditos SA de CV     Uriel Antuna   \n",
       "3361       Arbolitos Unidos de México S.A. de C.V.     Uriel Antuna   \n",
       "3362                         Jamonsitos SAPI de CV     Uriel Antuna   \n",
       "3363           Libros al por Mayor S.A.P.I de C.V.     Uriel Antuna   \n",
       "3364                                Quesillos S.C.     Uriel Antuna   \n",
       "3365                                Quesillos S.C.     Uriel Antuna   \n",
       "3366                           Pescaditos SA de CV     Uriel Antuna   \n",
       "3367  Carros y Refacciones del Centro S.A. de C.V.     Uriel Antuna   \n",
       "3368  Carros y Refacciones del Centro S.A. de C.V.     Uriel Antuna   \n",
       "3369                                Quesillos S.C.     Uriel Antuna   \n",
       "3370                         Jamonsitos SAPI de CV     Uriel Antuna   \n",
       "3371                                Quesillos S.C.     Uriel Antuna   \n",
       "3372                           Pescaditos SA de CV     Uriel Antuna   \n",
       "3373  Carros y Refacciones del Centro S.A. de C.V.     Uriel Antuna   \n",
       "3374           Libros al por Mayor S.A.P.I de C.V.     Uriel Antuna   \n",
       "3375                         Jamonsitos SAPI de CV     Uriel Antuna   \n",
       "3376                           Pescaditos SA de CV     Uriel Antuna   \n",
       "3377                                Quesillos S.C.     Uriel Antuna   \n",
       "3378                                Quesillos S.C.     Uriel Antuna   \n",
       "3379                           Pescaditos SA de CV     Uriel Antuna   \n",
       "3380                           Pescaditos SA de CV     Uriel Antuna   \n",
       "3381                                Quesillos S.C.     Uriel Antuna   \n",
       "3382  Carros y Refacciones del Centro S.A. de C.V.     Uriel Antuna   \n",
       "...                                            ...              ...   \n",
       "4323  Carros y Refacciones del Centro S.A. de C.V.  Rodolfo Pizarro   \n",
       "4324                                Quesillos S.C.  Rodolfo Pizarro   \n",
       "4325  Carros y Refacciones del Centro S.A. de C.V.  Rodolfo Pizarro   \n",
       "4326                  Carpinteros Unidos del Bajio  Rodolfo Pizarro   \n",
       "4327                  Carpinteros Unidos del Bajio  Rodolfo Pizarro   \n",
       "4328                  Carpinteros Unidos del Bajio  Rodolfo Pizarro   \n",
       "4329                           Pescaditos SA de CV  Rodolfo Pizarro   \n",
       "4330                                Quesillos S.C.  Rodolfo Pizarro   \n",
       "4331                  Carpinteros Unidos del Bajio  Rodolfo Pizarro   \n",
       "4332       Arbolitos Unidos de México S.A. de C.V.  Rodolfo Pizarro   \n",
       "4333  Carros y Refacciones del Centro S.A. de C.V.  Rodolfo Pizarro   \n",
       "4334                  Carpinteros Unidos del Bajio  Rodolfo Pizarro   \n",
       "4335           Libros al por Mayor S.A.P.I de C.V.  Rodolfo Pizarro   \n",
       "4336                  Carpinteros Unidos del Bajio  Rodolfo Pizarro   \n",
       "4337           Libros al por Mayor S.A.P.I de C.V.  Rodolfo Pizarro   \n",
       "4338                           Pescaditos SA de CV  Rodolfo Pizarro   \n",
       "4339  Carros y Refacciones del Centro S.A. de C.V.  Rodolfo Pizarro   \n",
       "4340                  Carpinteros Unidos del Bajio  Rodolfo Pizarro   \n",
       "4341       Arbolitos Unidos de México S.A. de C.V.  Rodolfo Pizarro   \n",
       "4342                           Pescaditos SA de CV  Rodolfo Pizarro   \n",
       "4343                  Carpinteros Unidos del Bajio  Rodolfo Pizarro   \n",
       "4344                                Quesillos S.C.  Rodolfo Pizarro   \n",
       "4345                         Jamonsitos SAPI de CV  Rodolfo Pizarro   \n",
       "4346                         Jamonsitos SAPI de CV  Rodolfo Pizarro   \n",
       "4347       Arbolitos Unidos de México S.A. de C.V.  Rodolfo Pizarro   \n",
       "4348                  Carpinteros Unidos del Bajio  Rodolfo Pizarro   \n",
       "4349                  Carpinteros Unidos del Bajio     Miguel Layún   \n",
       "4350  Carros y Refacciones del Centro S.A. de C.V.     Miguel Layún   \n",
       "4351           Libros al por Mayor S.A.P.I de C.V.     Miguel Layún   \n",
       "4352                                Quesillos S.C.     Miguel Layún   \n",
       "\n",
       "      dates_well  \n",
       "3353  2020-01-06  \n",
       "3354  2020-01-06  \n",
       "3355  2020-01-06  \n",
       "3356  2020-01-07  \n",
       "3357  2020-01-07  \n",
       "3358  2020-01-07  \n",
       "3359  2020-01-07  \n",
       "3360  2020-01-07  \n",
       "3361  2020-01-07  \n",
       "3362  2020-01-07  \n",
       "3363  2020-01-07  \n",
       "3364  2020-01-07  \n",
       "3365  2020-01-08  \n",
       "3366  2020-01-08  \n",
       "3367  2020-01-08  \n",
       "3368  2020-01-08  \n",
       "3369  2020-01-08  \n",
       "3370  2020-01-09  \n",
       "3371  2020-01-09  \n",
       "3372  2020-01-09  \n",
       "3373  2020-01-09  \n",
       "3374  2020-01-09  \n",
       "3375  2020-01-09  \n",
       "3376  2020-01-09  \n",
       "3377  2020-01-09  \n",
       "3378  2020-01-10  \n",
       "3379  2020-01-10  \n",
       "3380  2020-01-10  \n",
       "3381  2020-01-10  \n",
       "3382  2020-01-10  \n",
       "...          ...  \n",
       "4323  2020-09-19  \n",
       "4324  2020-09-21  \n",
       "4325  2020-09-21  \n",
       "4326  2020-09-21  \n",
       "4327  2020-09-22  \n",
       "4328  2020-09-23  \n",
       "4329  2020-09-23  \n",
       "4330  2020-09-24  \n",
       "4331  2020-09-24  \n",
       "4332  2020-09-25  \n",
       "4333  2020-09-25  \n",
       "4334  2020-09-25  \n",
       "4335  2020-09-25  \n",
       "4336  2020-09-26  \n",
       "4337  2020-09-26  \n",
       "4338  2020-09-28  \n",
       "4339  2020-09-28  \n",
       "4340  2020-09-28  \n",
       "4341  2020-09-29  \n",
       "4342  2020-09-29  \n",
       "4343  2020-09-29  \n",
       "4344  2020-09-30  \n",
       "4345  2020-09-30  \n",
       "4346  2020-09-30  \n",
       "4347  2020-09-30  \n",
       "4348  2020-09-30  \n",
       "4349  2020-10-01  \n",
       "4350  2020-10-01  \n",
       "4351  2020-10-01  \n",
       "4352  2020-10-02  \n",
       "\n",
       "[1000 rows x 6 columns]"
      ]
     },
     "execution_count": 60,
     "metadata": {},
     "output_type": "execute_result"
    }
   ],
   "source": [
    "df.tail(1000)"
   ]
  },
  {
   "cell_type": "code",
   "execution_count": 61,
   "metadata": {
    "scrolled": true
   },
   "outputs": [],
   "source": [
    "# ax = sns.relplot(x = 'dates_well', y = 'sales_usd', data = df[df[\"sales_agent_name\"] == \"Santiago Gim´'enez\"])\n",
    "# xtick_locs = mpl.dates.date2num(df['dates_well'].tolist())\n",
    "# xtick_labels = [\"{}-{}\".format(*i.split('-')[1:])[:-3] for i in xtick_labels]\n",
    "# ax.set_xticklabels(xtick_labels\n"
   ]
  },
  {
   "cell_type": "code",
   "execution_count": 62,
   "metadata": {},
   "outputs": [],
   "source": [
    "data = df[df[\"sales_agent_name\"] == \"Santiago Gim´'enez\"]"
   ]
  },
  {
   "cell_type": "code",
   "execution_count": 63,
   "metadata": {},
   "outputs": [],
   "source": [
    "# years = mdates.YearLocator()   # every year\n",
    "# months = mdates.MonthLocator()  # every month\n",
    "# years_fmt = mdates.DateFormatter('%Y')\n",
    "\n",
    "# fig, ax = plt.subplots()\n",
    "# ax.plot('dates_well', 'sales_usd', data = data)\n",
    "# ax.xaxis.set_major_locator(years)\n",
    "# ax.xaxis.set_major_formatter(years_fmt)\n",
    "# ax.xaxis.set_minor_locator(months)\n",
    "\n",
    "# datemin = np.datetime64(df['dates_well'][0], 'Y')\n",
    "# datemax = np.datetime64(max(df['dates_well'][:]), 'Y') + np.timedelta64(1, 'Y')\n",
    "# ax.set_xlim(datemin, datemax)"
   ]
  },
  {
   "cell_type": "code",
   "execution_count": 64,
   "metadata": {},
   "outputs": [],
   "source": [
    "df['dates_well'] = pd.to_datetime(df['dates_well']) "
   ]
  },
  {
   "cell_type": "code",
   "execution_count": 65,
   "metadata": {
    "scrolled": true
   },
   "outputs": [
    {
     "data": {
      "text/plain": [
       "date                            int64\n",
       "sales_usd                     float64\n",
       "product_description            object\n",
       "client_name                    object\n",
       "sales_agent_name               object\n",
       "dates_well             datetime64[ns]\n",
       "dtype: object"
      ]
     },
     "execution_count": 65,
     "metadata": {},
     "output_type": "execute_result"
    }
   ],
   "source": [
    "df.dtypes"
   ]
  },
  {
   "cell_type": "code",
   "execution_count": 66,
   "metadata": {},
   "outputs": [],
   "source": [
    "mask = (df['dates_well'] > '2020-01-07') & (df['dates_well'] <= '2020-01-08')"
   ]
  },
  {
   "cell_type": "code",
   "execution_count": 67,
   "metadata": {
    "scrolled": false
   },
   "outputs": [
    {
     "data": {
      "text/plain": [
       "<matplotlib.collections.PolyCollection at 0x1d2c018d4e0>"
      ]
     },
     "execution_count": 67,
     "metadata": {},
     "output_type": "execute_result"
    },
    {
     "data": {
      "image/png": "[encoded data removed]",
      "text/plain": [
       "<Figure size 432x288 with 1 Axes>"
      ]
     },
     "metadata": {
      "needs_background": "light"
     },
     "output_type": "display_data"
    }
   ],
   "source": [
    "d = df[df[\"sales_agent_name\"] == \"Guillermo Ochoa\"][\"dates_well\"].values\n",
    "\n",
    "plt.plot_date(df[df[\"sales_agent_name\"] == \"Guillermo Ochoa\"][\"dates_well\"], df[df[\"sales_agent_name\"] == \"Guillermo Ochoa\"][\"sales_usd\"].cumsum(), marker = '_', linestyle = 'solid', linewidth=0.1)\n",
    "plt.gcf().autofmt_xdate()\n",
    "\n",
    "plt.fill_between(d, df[df[\"sales_agent_name\"] == \"Guillermo Ochoa\"][\"sales_usd\"].cumsum(),\n",
    "                facecolor='blue', alpha=0.2, interpolate=True)\n"
   ]
  },
  {
   "cell_type": "code",
   "execution_count": 68,
   "metadata": {},
   "outputs": [
    {
     "data": {
      "image/png": "[encoded data removed]",
      "text/plain": [
       "<Figure size 432x288 with 1 Axes>"
      ]
     },
     "metadata": {
      "needs_background": "light"
     },
     "output_type": "display_data"
    }
   ],
   "source": [
    "d = df[df[\"sales_agent_name\"] == \"Uriel Antuna\"][\"dates_well\"].sort_values()\n",
    "\n",
    "plt.plot_date(df[df[\"sales_agent_name\"] == \"Uriel Antuna\"][\"dates_well\"].sort_values(), df[df[\"sales_agent_name\"] == \"Uriel Antuna\"][\"sales_usd\"].cumsum(), marker = '_', linestyle = 'solid', linewidth=0.1)\n",
    "plt.gcf().autofmt_xdate()\n",
    "\n",
    "#plt.fill_between(d, df[df[\"sales_agent_name\"] == \"Uriel Antuna\"][\"sales_usd\"].cumsum(),\n",
    "                #facecolor='blue', alpha=0.2, interpolate=True)"
   ]
  },
  {
   "cell_type": "code",
   "execution_count": 69,
   "metadata": {
    "scrolled": true
   },
   "outputs": [
    {
     "data": {
      "image/png": "[encoded data removed]",
      "text/plain": [
       "<Figure size 432x288 with 1 Axes>"
      ]
     },
     "metadata": {
      "needs_background": "light"
     },
     "output_type": "display_data"
    }
   ],
   "source": [
    "plt.plot_date(df[df[\"sales_agent_name\"] == \"Uriel Antuna\"][\"dates_well\"].sort_values(), df[df[\"sales_agent_name\"] == \"Uriel Antuna\"][\"sales_usd\"].cumsum())\n",
    "plt.gcf().autofmt_xdate()"
   ]
  },
  {
   "cell_type": "code",
   "execution_count": 70,
   "metadata": {
    "scrolled": true
   },
   "outputs": [],
   "source": [
    "d = df[df[\"sales_agent_name\"] == \"Uriel Antuna\"][\"dates_well\"].sort_values()\n",
    "#d"
   ]
  },
  {
   "cell_type": "code",
   "execution_count": 71,
   "metadata": {},
   "outputs": [],
   "source": [
    "df_new = df.sort_values(by = [\"dates_well\"])"
   ]
  },
  {
   "cell_type": "code",
   "execution_count": 72,
   "metadata": {},
   "outputs": [],
   "source": [
    "df_new.to_csv(\"dataset_dates.csv\")"
   ]
  },
  {
   "cell_type": "code",
   "execution_count": 73,
   "metadata": {},
   "outputs": [
    {
     "data": {
      "text/html": [
       "<div>\n",
       "<style scoped>\n",
       "    .dataframe tbody tr th:only-of-type {\n",
       "        vertical-align: middle;\n",
       "    }\n",
       "\n",
       "    .dataframe tbody tr th {\n",
       "        vertical-align: top;\n",
       "    }\n",
       "\n",
       "    .dataframe thead th {\n",
       "        text-align: right;\n",
       "    }\n",
       "</style>\n",
       "<table border=\"1\" class=\"dataframe\">\n",
       "  <thead>\n",
       "    <tr style=\"text-align: right;\">\n",
       "      <th></th>\n",
       "      <th>date</th>\n",
       "      <th>sales_usd</th>\n",
       "      <th>product_description</th>\n",
       "      <th>client_name</th>\n",
       "      <th>sales_agent_name</th>\n",
       "      <th>dates_well</th>\n",
       "    </tr>\n",
       "  </thead>\n",
       "  <tbody>\n",
       "    <tr>\n",
       "      <th>3331</th>\n",
       "      <td>275</td>\n",
       "      <td>6.929017e+06</td>\n",
       "      <td>Producto H</td>\n",
       "      <td>Jamonsitos SAPI de CV</td>\n",
       "      <td>Uriel Antuna</td>\n",
       "      <td>2020-10-02</td>\n",
       "    </tr>\n",
       "    <tr>\n",
       "      <th>979</th>\n",
       "      <td>275</td>\n",
       "      <td>2.761848e+06</td>\n",
       "      <td>Producto E</td>\n",
       "      <td>Carros y Refacciones del Centro S.A. de C.V.</td>\n",
       "      <td>Raul Jimenez</td>\n",
       "      <td>2020-10-02</td>\n",
       "    </tr>\n",
       "    <tr>\n",
       "      <th>978</th>\n",
       "      <td>275</td>\n",
       "      <td>4.284197e+05</td>\n",
       "      <td>Producto E</td>\n",
       "      <td>Carros y Refacciones del Centro S.A. de C.V.</td>\n",
       "      <td>Raul Jimenez</td>\n",
       "      <td>2020-10-02</td>\n",
       "    </tr>\n",
       "    <tr>\n",
       "      <th>2141</th>\n",
       "      <td>275</td>\n",
       "      <td>1.071076e+06</td>\n",
       "      <td>Producto E</td>\n",
       "      <td>Libros al por Mayor S.A.P.I de C.V.</td>\n",
       "      <td>Santiago Gim´'enez</td>\n",
       "      <td>2020-10-02</td>\n",
       "    </tr>\n",
       "    <tr>\n",
       "      <th>4352</th>\n",
       "      <td>275</td>\n",
       "      <td>2.962278e+04</td>\n",
       "      <td>Producto E</td>\n",
       "      <td>Quesillos S.C.</td>\n",
       "      <td>Miguel Layún</td>\n",
       "      <td>2020-10-02</td>\n",
       "    </tr>\n",
       "  </tbody>\n",
       "</table>\n",
       "</div>"
      ],
      "text/plain": [
       "      date     sales_usd product_description  \\\n",
       "3331   275  6.929017e+06          Producto H   \n",
       "979    275  2.761848e+06          Producto E   \n",
       "978    275  4.284197e+05          Producto E   \n",
       "2141   275  1.071076e+06          Producto E   \n",
       "4352   275  2.962278e+04          Producto E   \n",
       "\n",
       "                                       client_name    sales_agent_name  \\\n",
       "3331                         Jamonsitos SAPI de CV        Uriel Antuna   \n",
       "979   Carros y Refacciones del Centro S.A. de C.V.        Raul Jimenez   \n",
       "978   Carros y Refacciones del Centro S.A. de C.V.        Raul Jimenez   \n",
       "2141           Libros al por Mayor S.A.P.I de C.V.  Santiago Gim´'enez   \n",
       "4352                                Quesillos S.C.        Miguel Layún   \n",
       "\n",
       "     dates_well  \n",
       "3331 2020-10-02  \n",
       "979  2020-10-02  \n",
       "978  2020-10-02  \n",
       "2141 2020-10-02  \n",
       "4352 2020-10-02  "
      ]
     },
     "execution_count": 73,
     "metadata": {},
     "output_type": "execute_result"
    }
   ],
   "source": [
    "df_new.tail()"
   ]
  },
  {
   "cell_type": "code",
   "execution_count": 74,
   "metadata": {},
   "outputs": [],
   "source": [
    "#dummy = pd.get_dummies(df[\"product_description\"])"
   ]
  },
  {
   "cell_type": "code",
   "execution_count": 75,
   "metadata": {},
   "outputs": [],
   "source": [
    "#df_new = pd.concat([ df_new, dummy ], axis = 1)"
   ]
  },
  {
   "cell_type": "code",
   "execution_count": 76,
   "metadata": {},
   "outputs": [
    {
     "data": {
      "text/html": [
       "<div>\n",
       "<style scoped>\n",
       "    .dataframe tbody tr th:only-of-type {\n",
       "        vertical-align: middle;\n",
       "    }\n",
       "\n",
       "    .dataframe tbody tr th {\n",
       "        vertical-align: top;\n",
       "    }\n",
       "\n",
       "    .dataframe thead th {\n",
       "        text-align: right;\n",
       "    }\n",
       "</style>\n",
       "<table border=\"1\" class=\"dataframe\">\n",
       "  <thead>\n",
       "    <tr style=\"text-align: right;\">\n",
       "      <th></th>\n",
       "      <th>date</th>\n",
       "      <th>sales_usd</th>\n",
       "      <th>product_description</th>\n",
       "      <th>client_name</th>\n",
       "      <th>sales_agent_name</th>\n",
       "      <th>dates_well</th>\n",
       "    </tr>\n",
       "  </thead>\n",
       "  <tbody>\n",
       "    <tr>\n",
       "      <th>1022</th>\n",
       "      <td>0</td>\n",
       "      <td>201673.385100</td>\n",
       "      <td>Producto E</td>\n",
       "      <td>Libros al por Mayor S.A.P.I de C.V.</td>\n",
       "      <td>Raul Jimenez</td>\n",
       "      <td>2020-01-01</td>\n",
       "    </tr>\n",
       "    <tr>\n",
       "      <th>0</th>\n",
       "      <td>1</td>\n",
       "      <td>829826.209000</td>\n",
       "      <td>Producto G</td>\n",
       "      <td>Quesillos S.C.</td>\n",
       "      <td>Guillermo Ochoa</td>\n",
       "      <td>2020-01-02</td>\n",
       "    </tr>\n",
       "    <tr>\n",
       "      <th>3334</th>\n",
       "      <td>1</td>\n",
       "      <td>583404.520400</td>\n",
       "      <td>Producto E</td>\n",
       "      <td>Jamonsitos SAPI de CV</td>\n",
       "      <td>Uriel Antuna</td>\n",
       "      <td>2020-01-02</td>\n",
       "    </tr>\n",
       "    <tr>\n",
       "      <th>3333</th>\n",
       "      <td>1</td>\n",
       "      <td>172505.485500</td>\n",
       "      <td>Producto E</td>\n",
       "      <td>Carros y Refacciones del Centro S.A. de C.V.</td>\n",
       "      <td>Uriel Antuna</td>\n",
       "      <td>2020-01-02</td>\n",
       "    </tr>\n",
       "    <tr>\n",
       "      <th>3332</th>\n",
       "      <td>1</td>\n",
       "      <td>5399.391897</td>\n",
       "      <td>Producto G</td>\n",
       "      <td>Quesillos S.C.</td>\n",
       "      <td>Uriel Antuna</td>\n",
       "      <td>2020-01-02</td>\n",
       "    </tr>\n",
       "  </tbody>\n",
       "</table>\n",
       "</div>"
      ],
      "text/plain": [
       "      date      sales_usd product_description  \\\n",
       "1022     0  201673.385100          Producto E   \n",
       "0        1  829826.209000          Producto G   \n",
       "3334     1  583404.520400          Producto E   \n",
       "3333     1  172505.485500          Producto E   \n",
       "3332     1    5399.391897          Producto G   \n",
       "\n",
       "                                       client_name sales_agent_name dates_well  \n",
       "1022           Libros al por Mayor S.A.P.I de C.V.     Raul Jimenez 2020-01-01  \n",
       "0                                   Quesillos S.C.  Guillermo Ochoa 2020-01-02  \n",
       "3334                         Jamonsitos SAPI de CV     Uriel Antuna 2020-01-02  \n",
       "3333  Carros y Refacciones del Centro S.A. de C.V.     Uriel Antuna 2020-01-02  \n",
       "3332                                Quesillos S.C.     Uriel Antuna 2020-01-02  "
      ]
     },
     "execution_count": 76,
     "metadata": {},
     "output_type": "execute_result"
    }
   ],
   "source": [
    "df_new.head()"
   ]
  },
  {
   "cell_type": "code",
   "execution_count": 77,
   "metadata": {},
   "outputs": [],
   "source": [
    "#dummy_2 = pd.get_dummies(df[\"sales_agent_name\"])\n",
    "#df_new = pd.concat([ df_new, dummy_2 ], axis = 1)"
   ]
  },
  {
   "cell_type": "code",
   "execution_count": 78,
   "metadata": {},
   "outputs": [
    {
     "data": {
      "text/html": [
       "<div>\n",
       "<style scoped>\n",
       "    .dataframe tbody tr th:only-of-type {\n",
       "        vertical-align: middle;\n",
       "    }\n",
       "\n",
       "    .dataframe tbody tr th {\n",
       "        vertical-align: top;\n",
       "    }\n",
       "\n",
       "    .dataframe thead th {\n",
       "        text-align: right;\n",
       "    }\n",
       "</style>\n",
       "<table border=\"1\" class=\"dataframe\">\n",
       "  <thead>\n",
       "    <tr style=\"text-align: right;\">\n",
       "      <th></th>\n",
       "      <th>date</th>\n",
       "      <th>sales_usd</th>\n",
       "      <th>product_description</th>\n",
       "      <th>client_name</th>\n",
       "      <th>sales_agent_name</th>\n",
       "      <th>dates_well</th>\n",
       "    </tr>\n",
       "  </thead>\n",
       "  <tbody>\n",
       "    <tr>\n",
       "      <th>1022</th>\n",
       "      <td>0</td>\n",
       "      <td>201673.385100</td>\n",
       "      <td>Producto E</td>\n",
       "      <td>Libros al por Mayor S.A.P.I de C.V.</td>\n",
       "      <td>Raul Jimenez</td>\n",
       "      <td>2020-01-01</td>\n",
       "    </tr>\n",
       "    <tr>\n",
       "      <th>0</th>\n",
       "      <td>1</td>\n",
       "      <td>829826.209000</td>\n",
       "      <td>Producto G</td>\n",
       "      <td>Quesillos S.C.</td>\n",
       "      <td>Guillermo Ochoa</td>\n",
       "      <td>2020-01-02</td>\n",
       "    </tr>\n",
       "    <tr>\n",
       "      <th>3334</th>\n",
       "      <td>1</td>\n",
       "      <td>583404.520400</td>\n",
       "      <td>Producto E</td>\n",
       "      <td>Jamonsitos SAPI de CV</td>\n",
       "      <td>Uriel Antuna</td>\n",
       "      <td>2020-01-02</td>\n",
       "    </tr>\n",
       "    <tr>\n",
       "      <th>3333</th>\n",
       "      <td>1</td>\n",
       "      <td>172505.485500</td>\n",
       "      <td>Producto E</td>\n",
       "      <td>Carros y Refacciones del Centro S.A. de C.V.</td>\n",
       "      <td>Uriel Antuna</td>\n",
       "      <td>2020-01-02</td>\n",
       "    </tr>\n",
       "    <tr>\n",
       "      <th>3332</th>\n",
       "      <td>1</td>\n",
       "      <td>5399.391897</td>\n",
       "      <td>Producto G</td>\n",
       "      <td>Quesillos S.C.</td>\n",
       "      <td>Uriel Antuna</td>\n",
       "      <td>2020-01-02</td>\n",
       "    </tr>\n",
       "  </tbody>\n",
       "</table>\n",
       "</div>"
      ],
      "text/plain": [
       "      date      sales_usd product_description  \\\n",
       "1022     0  201673.385100          Producto E   \n",
       "0        1  829826.209000          Producto G   \n",
       "3334     1  583404.520400          Producto E   \n",
       "3333     1  172505.485500          Producto E   \n",
       "3332     1    5399.391897          Producto G   \n",
       "\n",
       "                                       client_name sales_agent_name dates_well  \n",
       "1022           Libros al por Mayor S.A.P.I de C.V.     Raul Jimenez 2020-01-01  \n",
       "0                                   Quesillos S.C.  Guillermo Ochoa 2020-01-02  \n",
       "3334                         Jamonsitos SAPI de CV     Uriel Antuna 2020-01-02  \n",
       "3333  Carros y Refacciones del Centro S.A. de C.V.     Uriel Antuna 2020-01-02  \n",
       "3332                                Quesillos S.C.     Uriel Antuna 2020-01-02  "
      ]
     },
     "execution_count": 78,
     "metadata": {},
     "output_type": "execute_result"
    }
   ],
   "source": [
    "df_new.head()"
   ]
  },
  {
   "cell_type": "code",
   "execution_count": 79,
   "metadata": {},
   "outputs": [],
   "source": [
    "#dummy_3 = pd.get_dummies(df[\"client_name\"])\n",
    "#df_new = pd.concat([ df_new, dummy_3 ], axis = 1)"
   ]
  },
  {
   "cell_type": "code",
   "execution_count": 80,
   "metadata": {},
   "outputs": [],
   "source": [
    "df_new[\"cumulative\"] = df_new[\"sales_usd\"].cumsum()"
   ]
  },
  {
   "cell_type": "code",
   "execution_count": 81,
   "metadata": {},
   "outputs": [
    {
     "data": {
      "text/html": [
       "<div>\n",
       "<style scoped>\n",
       "    .dataframe tbody tr th:only-of-type {\n",
       "        vertical-align: middle;\n",
       "    }\n",
       "\n",
       "    .dataframe tbody tr th {\n",
       "        vertical-align: top;\n",
       "    }\n",
       "\n",
       "    .dataframe thead th {\n",
       "        text-align: right;\n",
       "    }\n",
       "</style>\n",
       "<table border=\"1\" class=\"dataframe\">\n",
       "  <thead>\n",
       "    <tr style=\"text-align: right;\">\n",
       "      <th></th>\n",
       "      <th>date</th>\n",
       "      <th>sales_usd</th>\n",
       "      <th>product_description</th>\n",
       "      <th>client_name</th>\n",
       "      <th>sales_agent_name</th>\n",
       "      <th>dates_well</th>\n",
       "      <th>cumulative</th>\n",
       "    </tr>\n",
       "  </thead>\n",
       "  <tbody>\n",
       "    <tr>\n",
       "      <th>4351</th>\n",
       "      <td>274</td>\n",
       "      <td>2.557195e+06</td>\n",
       "      <td>Producto D</td>\n",
       "      <td>Libros al por Mayor S.A.P.I de C.V.</td>\n",
       "      <td>Miguel Layún</td>\n",
       "      <td>2020-10-01</td>\n",
       "      <td>5.225341e+09</td>\n",
       "    </tr>\n",
       "    <tr>\n",
       "      <th>1719</th>\n",
       "      <td>274</td>\n",
       "      <td>6.200169e+05</td>\n",
       "      <td>Producto E</td>\n",
       "      <td>Carros y Refacciones del Centro S.A. de C.V.</td>\n",
       "      <td>Jose Juan Macias</td>\n",
       "      <td>2020-10-01</td>\n",
       "      <td>5.225961e+09</td>\n",
       "    </tr>\n",
       "    <tr>\n",
       "      <th>976</th>\n",
       "      <td>274</td>\n",
       "      <td>1.940498e+06</td>\n",
       "      <td>Producto E</td>\n",
       "      <td>Libros al por Mayor S.A.P.I de C.V.</td>\n",
       "      <td>Raul Jimenez</td>\n",
       "      <td>2020-10-01</td>\n",
       "      <td>5.227901e+09</td>\n",
       "    </tr>\n",
       "    <tr>\n",
       "      <th>2140</th>\n",
       "      <td>274</td>\n",
       "      <td>6.682496e+05</td>\n",
       "      <td>Producto H</td>\n",
       "      <td>Pescaditos SA de CV</td>\n",
       "      <td>Santiago Gim´'enez</td>\n",
       "      <td>2020-10-01</td>\n",
       "      <td>5.228570e+09</td>\n",
       "    </tr>\n",
       "    <tr>\n",
       "      <th>388</th>\n",
       "      <td>274</td>\n",
       "      <td>1.790149e+06</td>\n",
       "      <td>Producto G</td>\n",
       "      <td>Quesillos S.C.</td>\n",
       "      <td>Guillermo Ochoa</td>\n",
       "      <td>2020-10-01</td>\n",
       "      <td>5.230360e+09</td>\n",
       "    </tr>\n",
       "    <tr>\n",
       "      <th>4350</th>\n",
       "      <td>274</td>\n",
       "      <td>8.064545e+05</td>\n",
       "      <td>Producto E</td>\n",
       "      <td>Carros y Refacciones del Centro S.A. de C.V.</td>\n",
       "      <td>Miguel Layún</td>\n",
       "      <td>2020-10-01</td>\n",
       "      <td>5.231166e+09</td>\n",
       "    </tr>\n",
       "    <tr>\n",
       "      <th>4349</th>\n",
       "      <td>274</td>\n",
       "      <td>3.669337e+05</td>\n",
       "      <td>Producto E</td>\n",
       "      <td>Carpinteros Unidos del Bajio</td>\n",
       "      <td>Miguel Layún</td>\n",
       "      <td>2020-10-01</td>\n",
       "      <td>5.231533e+09</td>\n",
       "    </tr>\n",
       "    <tr>\n",
       "      <th>3327</th>\n",
       "      <td>274</td>\n",
       "      <td>9.264545e+06</td>\n",
       "      <td>Producto E</td>\n",
       "      <td>Carpinteros Unidos del Bajio</td>\n",
       "      <td>Uriel Antuna</td>\n",
       "      <td>2020-10-01</td>\n",
       "      <td>5.240798e+09</td>\n",
       "    </tr>\n",
       "    <tr>\n",
       "      <th>3326</th>\n",
       "      <td>274</td>\n",
       "      <td>3.618779e+05</td>\n",
       "      <td>Producto E</td>\n",
       "      <td>Carpinteros Unidos del Bajio</td>\n",
       "      <td>Uriel Antuna</td>\n",
       "      <td>2020-10-01</td>\n",
       "      <td>5.241160e+09</td>\n",
       "    </tr>\n",
       "    <tr>\n",
       "      <th>3325</th>\n",
       "      <td>274</td>\n",
       "      <td>1.373486e+05</td>\n",
       "      <td>Producto H</td>\n",
       "      <td>Jamonsitos SAPI de CV</td>\n",
       "      <td>Uriel Antuna</td>\n",
       "      <td>2020-10-01</td>\n",
       "      <td>5.241297e+09</td>\n",
       "    </tr>\n",
       "    <tr>\n",
       "      <th>1718</th>\n",
       "      <td>274</td>\n",
       "      <td>6.711474e+04</td>\n",
       "      <td>Producto H</td>\n",
       "      <td>Pescaditos SA de CV</td>\n",
       "      <td>Jose Juan Macias</td>\n",
       "      <td>2020-10-01</td>\n",
       "      <td>5.241364e+09</td>\n",
       "    </tr>\n",
       "    <tr>\n",
       "      <th>975</th>\n",
       "      <td>274</td>\n",
       "      <td>3.705892e+05</td>\n",
       "      <td>Producto E</td>\n",
       "      <td>Carros y Refacciones del Centro S.A. de C.V.</td>\n",
       "      <td>Raul Jimenez</td>\n",
       "      <td>2020-10-01</td>\n",
       "      <td>5.241735e+09</td>\n",
       "    </tr>\n",
       "    <tr>\n",
       "      <th>3330</th>\n",
       "      <td>275</td>\n",
       "      <td>3.141934e+06</td>\n",
       "      <td>Producto E</td>\n",
       "      <td>Carpinteros Unidos del Bajio</td>\n",
       "      <td>Uriel Antuna</td>\n",
       "      <td>2020-10-02</td>\n",
       "      <td>5.244877e+09</td>\n",
       "    </tr>\n",
       "    <tr>\n",
       "      <th>390</th>\n",
       "      <td>275</td>\n",
       "      <td>2.942217e+06</td>\n",
       "      <td>Producto G</td>\n",
       "      <td>Quesillos S.C.</td>\n",
       "      <td>Guillermo Ochoa</td>\n",
       "      <td>2020-10-02</td>\n",
       "      <td>5.247819e+09</td>\n",
       "    </tr>\n",
       "    <tr>\n",
       "      <th>3329</th>\n",
       "      <td>275</td>\n",
       "      <td>7.755049e+05</td>\n",
       "      <td>Producto E</td>\n",
       "      <td>Carpinteros Unidos del Bajio</td>\n",
       "      <td>Uriel Antuna</td>\n",
       "      <td>2020-10-02</td>\n",
       "      <td>5.248594e+09</td>\n",
       "    </tr>\n",
       "    <tr>\n",
       "      <th>3328</th>\n",
       "      <td>275</td>\n",
       "      <td>6.642148e+05</td>\n",
       "      <td>Producto E</td>\n",
       "      <td>Jamonsitos SAPI de CV</td>\n",
       "      <td>Uriel Antuna</td>\n",
       "      <td>2020-10-02</td>\n",
       "      <td>5.249259e+09</td>\n",
       "    </tr>\n",
       "    <tr>\n",
       "      <th>2727</th>\n",
       "      <td>275</td>\n",
       "      <td>3.709050e+05</td>\n",
       "      <td>Producto H</td>\n",
       "      <td>Pescaditos SA de CV</td>\n",
       "      <td>Edson Álvarez</td>\n",
       "      <td>2020-10-02</td>\n",
       "      <td>5.249630e+09</td>\n",
       "    </tr>\n",
       "    <tr>\n",
       "      <th>2726</th>\n",
       "      <td>275</td>\n",
       "      <td>7.093628e+04</td>\n",
       "      <td>Producto E</td>\n",
       "      <td>Pescaditos SA de CV</td>\n",
       "      <td>Edson Álvarez</td>\n",
       "      <td>2020-10-02</td>\n",
       "      <td>5.249700e+09</td>\n",
       "    </tr>\n",
       "    <tr>\n",
       "      <th>2725</th>\n",
       "      <td>275</td>\n",
       "      <td>9.617856e+03</td>\n",
       "      <td>Producto E</td>\n",
       "      <td>Pescaditos SA de CV</td>\n",
       "      <td>Edson Álvarez</td>\n",
       "      <td>2020-10-02</td>\n",
       "      <td>5.249710e+09</td>\n",
       "    </tr>\n",
       "    <tr>\n",
       "      <th>2143</th>\n",
       "      <td>275</td>\n",
       "      <td>2.172923e+06</td>\n",
       "      <td>Producto H</td>\n",
       "      <td>Pescaditos SA de CV</td>\n",
       "      <td>Santiago Gim´'enez</td>\n",
       "      <td>2020-10-02</td>\n",
       "      <td>5.251883e+09</td>\n",
       "    </tr>\n",
       "    <tr>\n",
       "      <th>389</th>\n",
       "      <td>275</td>\n",
       "      <td>6.014055e+04</td>\n",
       "      <td>Producto E</td>\n",
       "      <td>Quesillos S.C.</td>\n",
       "      <td>Guillermo Ochoa</td>\n",
       "      <td>2020-10-02</td>\n",
       "      <td>5.251943e+09</td>\n",
       "    </tr>\n",
       "    <tr>\n",
       "      <th>2142</th>\n",
       "      <td>275</td>\n",
       "      <td>1.411812e+06</td>\n",
       "      <td>Producto F</td>\n",
       "      <td>Arbolitos Unidos de México S.A. de C.V.</td>\n",
       "      <td>Santiago Gim´'enez</td>\n",
       "      <td>2020-10-02</td>\n",
       "      <td>5.253355e+09</td>\n",
       "    </tr>\n",
       "    <tr>\n",
       "      <th>1722</th>\n",
       "      <td>275</td>\n",
       "      <td>2.063150e+06</td>\n",
       "      <td>Producto E</td>\n",
       "      <td>Carros y Refacciones del Centro S.A. de C.V.</td>\n",
       "      <td>Jose Juan Macias</td>\n",
       "      <td>2020-10-02</td>\n",
       "      <td>5.255418e+09</td>\n",
       "    </tr>\n",
       "    <tr>\n",
       "      <th>1721</th>\n",
       "      <td>275</td>\n",
       "      <td>1.566683e+06</td>\n",
       "      <td>Producto F</td>\n",
       "      <td>Libros al por Mayor S.A.P.I de C.V.</td>\n",
       "      <td>Jose Juan Macias</td>\n",
       "      <td>2020-10-02</td>\n",
       "      <td>5.256985e+09</td>\n",
       "    </tr>\n",
       "    <tr>\n",
       "      <th>1720</th>\n",
       "      <td>275</td>\n",
       "      <td>3.157955e+05</td>\n",
       "      <td>Producto E</td>\n",
       "      <td>Carros y Refacciones del Centro S.A. de C.V.</td>\n",
       "      <td>Jose Juan Macias</td>\n",
       "      <td>2020-10-02</td>\n",
       "      <td>5.257301e+09</td>\n",
       "    </tr>\n",
       "    <tr>\n",
       "      <th>3331</th>\n",
       "      <td>275</td>\n",
       "      <td>6.929017e+06</td>\n",
       "      <td>Producto H</td>\n",
       "      <td>Jamonsitos SAPI de CV</td>\n",
       "      <td>Uriel Antuna</td>\n",
       "      <td>2020-10-02</td>\n",
       "      <td>5.264230e+09</td>\n",
       "    </tr>\n",
       "    <tr>\n",
       "      <th>979</th>\n",
       "      <td>275</td>\n",
       "      <td>2.761848e+06</td>\n",
       "      <td>Producto E</td>\n",
       "      <td>Carros y Refacciones del Centro S.A. de C.V.</td>\n",
       "      <td>Raul Jimenez</td>\n",
       "      <td>2020-10-02</td>\n",
       "      <td>5.266991e+09</td>\n",
       "    </tr>\n",
       "    <tr>\n",
       "      <th>978</th>\n",
       "      <td>275</td>\n",
       "      <td>4.284197e+05</td>\n",
       "      <td>Producto E</td>\n",
       "      <td>Carros y Refacciones del Centro S.A. de C.V.</td>\n",
       "      <td>Raul Jimenez</td>\n",
       "      <td>2020-10-02</td>\n",
       "      <td>5.267420e+09</td>\n",
       "    </tr>\n",
       "    <tr>\n",
       "      <th>2141</th>\n",
       "      <td>275</td>\n",
       "      <td>1.071076e+06</td>\n",
       "      <td>Producto E</td>\n",
       "      <td>Libros al por Mayor S.A.P.I de C.V.</td>\n",
       "      <td>Santiago Gim´'enez</td>\n",
       "      <td>2020-10-02</td>\n",
       "      <td>5.268491e+09</td>\n",
       "    </tr>\n",
       "    <tr>\n",
       "      <th>4352</th>\n",
       "      <td>275</td>\n",
       "      <td>2.962278e+04</td>\n",
       "      <td>Producto E</td>\n",
       "      <td>Quesillos S.C.</td>\n",
       "      <td>Miguel Layún</td>\n",
       "      <td>2020-10-02</td>\n",
       "      <td>5.268521e+09</td>\n",
       "    </tr>\n",
       "  </tbody>\n",
       "</table>\n",
       "</div>"
      ],
      "text/plain": [
       "      date     sales_usd product_description  \\\n",
       "4351   274  2.557195e+06          Producto D   \n",
       "1719   274  6.200169e+05          Producto E   \n",
       "976    274  1.940498e+06          Producto E   \n",
       "2140   274  6.682496e+05          Producto H   \n",
       "388    274  1.790149e+06          Producto G   \n",
       "4350   274  8.064545e+05          Producto E   \n",
       "4349   274  3.669337e+05          Producto E   \n",
       "3327   274  9.264545e+06          Producto E   \n",
       "3326   274  3.618779e+05          Producto E   \n",
       "3325   274  1.373486e+05          Producto H   \n",
       "1718   274  6.711474e+04          Producto H   \n",
       "975    274  3.705892e+05          Producto E   \n",
       "3330   275  3.141934e+06          Producto E   \n",
       "390    275  2.942217e+06          Producto G   \n",
       "3329   275  7.755049e+05          Producto E   \n",
       "3328   275  6.642148e+05          Producto E   \n",
       "2727   275  3.709050e+05          Producto H   \n",
       "2726   275  7.093628e+04          Producto E   \n",
       "2725   275  9.617856e+03          Producto E   \n",
       "2143   275  2.172923e+06          Producto H   \n",
       "389    275  6.014055e+04          Producto E   \n",
       "2142   275  1.411812e+06          Producto F   \n",
       "1722   275  2.063150e+06          Producto E   \n",
       "1721   275  1.566683e+06          Producto F   \n",
       "1720   275  3.157955e+05          Producto E   \n",
       "3331   275  6.929017e+06          Producto H   \n",
       "979    275  2.761848e+06          Producto E   \n",
       "978    275  4.284197e+05          Producto E   \n",
       "2141   275  1.071076e+06          Producto E   \n",
       "4352   275  2.962278e+04          Producto E   \n",
       "\n",
       "                                       client_name    sales_agent_name  \\\n",
       "4351           Libros al por Mayor S.A.P.I de C.V.        Miguel Layún   \n",
       "1719  Carros y Refacciones del Centro S.A. de C.V.    Jose Juan Macias   \n",
       "976            Libros al por Mayor S.A.P.I de C.V.        Raul Jimenez   \n",
       "2140                           Pescaditos SA de CV  Santiago Gim´'enez   \n",
       "388                                 Quesillos S.C.     Guillermo Ochoa   \n",
       "4350  Carros y Refacciones del Centro S.A. de C.V.        Miguel Layún   \n",
       "4349                  Carpinteros Unidos del Bajio        Miguel Layún   \n",
       "3327                  Carpinteros Unidos del Bajio        Uriel Antuna   \n",
       "3326                  Carpinteros Unidos del Bajio        Uriel Antuna   \n",
       "3325                         Jamonsitos SAPI de CV        Uriel Antuna   \n",
       "1718                           Pescaditos SA de CV    Jose Juan Macias   \n",
       "975   Carros y Refacciones del Centro S.A. de C.V.        Raul Jimenez   \n",
       "3330                  Carpinteros Unidos del Bajio        Uriel Antuna   \n",
       "390                                 Quesillos S.C.     Guillermo Ochoa   \n",
       "3329                  Carpinteros Unidos del Bajio        Uriel Antuna   \n",
       "3328                         Jamonsitos SAPI de CV        Uriel Antuna   \n",
       "2727                           Pescaditos SA de CV       Edson Álvarez   \n",
       "2726                           Pescaditos SA de CV       Edson Álvarez   \n",
       "2725                           Pescaditos SA de CV       Edson Álvarez   \n",
       "2143                           Pescaditos SA de CV  Santiago Gim´'enez   \n",
       "389                                 Quesillos S.C.     Guillermo Ochoa   \n",
       "2142       Arbolitos Unidos de México S.A. de C.V.  Santiago Gim´'enez   \n",
       "1722  Carros y Refacciones del Centro S.A. de C.V.    Jose Juan Macias   \n",
       "1721           Libros al por Mayor S.A.P.I de C.V.    Jose Juan Macias   \n",
       "1720  Carros y Refacciones del Centro S.A. de C.V.    Jose Juan Macias   \n",
       "3331                         Jamonsitos SAPI de CV        Uriel Antuna   \n",
       "979   Carros y Refacciones del Centro S.A. de C.V.        Raul Jimenez   \n",
       "978   Carros y Refacciones del Centro S.A. de C.V.        Raul Jimenez   \n",
       "2141           Libros al por Mayor S.A.P.I de C.V.  Santiago Gim´'enez   \n",
       "4352                                Quesillos S.C.        Miguel Layún   \n",
       "\n",
       "     dates_well    cumulative  \n",
       "4351 2020-10-01  5.225341e+09  \n",
       "1719 2020-10-01  5.225961e+09  \n",
       "976  2020-10-01  5.227901e+09  \n",
       "2140 2020-10-01  5.228570e+09  \n",
       "388  2020-10-01  5.230360e+09  \n",
       "4350 2020-10-01  5.231166e+09  \n",
       "4349 2020-10-01  5.231533e+09  \n",
       "3327 2020-10-01  5.240798e+09  \n",
       "3326 2020-10-01  5.241160e+09  \n",
       "3325 2020-10-01  5.241297e+09  \n",
       "1718 2020-10-01  5.241364e+09  \n",
       "975  2020-10-01  5.241735e+09  \n",
       "3330 2020-10-02  5.244877e+09  \n",
       "390  2020-10-02  5.247819e+09  \n",
       "3329 2020-10-02  5.248594e+09  \n",
       "3328 2020-10-02  5.249259e+09  \n",
       "2727 2020-10-02  5.249630e+09  \n",
       "2726 2020-10-02  5.249700e+09  \n",
       "2725 2020-10-02  5.249710e+09  \n",
       "2143 2020-10-02  5.251883e+09  \n",
       "389  2020-10-02  5.251943e+09  \n",
       "2142 2020-10-02  5.253355e+09  \n",
       "1722 2020-10-02  5.255418e+09  \n",
       "1721 2020-10-02  5.256985e+09  \n",
       "1720 2020-10-02  5.257301e+09  \n",
       "3331 2020-10-02  5.264230e+09  \n",
       "979  2020-10-02  5.266991e+09  \n",
       "978  2020-10-02  5.267420e+09  \n",
       "2141 2020-10-02  5.268491e+09  \n",
       "4352 2020-10-02  5.268521e+09  "
      ]
     },
     "execution_count": 81,
     "metadata": {},
     "output_type": "execute_result"
    }
   ],
   "source": [
    "df_new.tail(30)"
   ]
  },
  {
   "cell_type": "markdown",
   "metadata": {},
   "source": [
    "## Predictive Analysis for sales\n",
    "\n"
   ]
  },
  {
   "cell_type": "code",
   "execution_count": 82,
   "metadata": {},
   "outputs": [],
   "source": [
    "from sklearn.linear_model import LinearRegression\n",
    "from sklearn.model_selection import train_test_split "
   ]
  },
  {
   "cell_type": "code",
   "execution_count": 83,
   "metadata": {},
   "outputs": [],
   "source": [
    "train = df_new.drop(['product_description', 'dates_well', 'client_name', 'sales_agent_name', \"sales_usd\", \"cumulative\"], axis = 1 )"
   ]
  },
  {
   "cell_type": "code",
   "execution_count": 84,
   "metadata": {},
   "outputs": [],
   "source": [
    "test = df_new[\"cumulative\"]"
   ]
  },
  {
   "cell_type": "code",
   "execution_count": 85,
   "metadata": {},
   "outputs": [],
   "source": [
    "X_train, X_test, y_train, y_test = train_test_split(train, test, test_size = 0.3, random_state = 26)"
   ]
  },
  {
   "cell_type": "code",
   "execution_count": 86,
   "metadata": {},
   "outputs": [
    {
     "data": {
      "text/plain": [
       "3047"
      ]
     },
     "execution_count": 86,
     "metadata": {},
     "output_type": "execute_result"
    }
   ],
   "source": [
    "len(y_train)"
   ]
  },
  {
   "cell_type": "code",
   "execution_count": 87,
   "metadata": {},
   "outputs": [],
   "source": [
    "regr = LinearRegression()"
   ]
  },
  {
   "cell_type": "code",
   "execution_count": 88,
   "metadata": {},
   "outputs": [
    {
     "data": {
      "text/plain": [
       "LinearRegression(copy_X=True, fit_intercept=True, n_jobs=None,\n",
       "         normalize=False)"
      ]
     },
     "execution_count": 88,
     "metadata": {},
     "output_type": "execute_result"
    }
   ],
   "source": [
    "regr.fit(X_train, y_train)"
   ]
  },
  {
   "cell_type": "code",
   "execution_count": 89,
   "metadata": {},
   "outputs": [],
   "source": [
    "pred = regr.predict(X_test)"
   ]
  },
  {
   "cell_type": "code",
   "execution_count": 90,
   "metadata": {
    "scrolled": true
   },
   "outputs": [
    {
     "data": {
      "text/plain": [
       "array([2.14161741e+09, 4.30392837e+09, 3.55009519e+09, ...,\n",
       "       1.36794652e+09, 2.43918314e+09, 1.38778424e+09])"
      ]
     },
     "execution_count": 90,
     "metadata": {},
     "output_type": "execute_result"
    }
   ],
   "source": [
    "pred"
   ]
  },
  {
   "cell_type": "code",
   "execution_count": 91,
   "metadata": {},
   "outputs": [],
   "source": [
    "#y_test"
   ]
  },
  {
   "cell_type": "code",
   "execution_count": 92,
   "metadata": {},
   "outputs": [
    {
     "data": {
      "text/plain": [
       "0.9983383772723836"
      ]
     },
     "execution_count": 92,
     "metadata": {},
     "output_type": "execute_result"
    }
   ],
   "source": [
    "regr.score(X_test, y_test)"
   ]
  },
  {
   "cell_type": "code",
   "execution_count": 93,
   "metadata": {},
   "outputs": [],
   "source": [
    "#regr = LinearRegression(n_jobs = -1, normalize = True)"
   ]
  },
  {
   "cell_type": "code",
   "execution_count": 94,
   "metadata": {},
   "outputs": [],
   "source": [
    "#regr.fit(X_train, y_train)"
   ]
  },
  {
   "cell_type": "code",
   "execution_count": 95,
   "metadata": {},
   "outputs": [
    {
     "name": "stdout",
     "output_type": "stream",
     "text": [
      " the mean value per sale of Producto G  is 1286028.6808723325\n",
      " the mean value per sale of Producto E  is 1161010.0660278327\n",
      " the mean value per sale of Producto F  is 968353.6334950184\n",
      " the mean value per sale of Producto H  is 1105499.6061479438\n",
      " the mean value per sale of Producto C  is 1421779.159719812\n",
      " the mean value per sale of Producto D  is 5190483.645724916\n",
      " the mean value per sale of Producto I  is 449654.4711758824\n",
      " the mean value per sale of Producto A  is 61992.653233642865\n",
      " the mean value per sale of Producto B  is 91021.61236\n",
      " the mean value per sale of Producto 3  is 484090.8882\n"
     ]
    }
   ],
   "source": [
    "for product in list_products:\n",
    "    a = (df_new[df_new[\"product_description\"] == product][\"sales_usd\"].sum())/df[\"product_description\"].value_counts()[product]\n",
    "    print(\" the mean value per sale of\", product ,\" is\", a )\n"
   ]
  },
  {
   "cell_type": "code",
   "execution_count": 96,
   "metadata": {},
   "outputs": [],
   "source": [
    "df_agrup = df_new.groupby('date').sum()"
   ]
  },
  {
   "cell_type": "code",
   "execution_count": 97,
   "metadata": {},
   "outputs": [
    {
     "data": {
      "text/html": [
       "<div>\n",
       "<style scoped>\n",
       "    .dataframe tbody tr th:only-of-type {\n",
       "        vertical-align: middle;\n",
       "    }\n",
       "\n",
       "    .dataframe tbody tr th {\n",
       "        vertical-align: top;\n",
       "    }\n",
       "\n",
       "    .dataframe thead th {\n",
       "        text-align: right;\n",
       "    }\n",
       "</style>\n",
       "<table border=\"1\" class=\"dataframe\">\n",
       "  <thead>\n",
       "    <tr style=\"text-align: right;\">\n",
       "      <th></th>\n",
       "      <th>sales_usd</th>\n",
       "      <th>cumulative</th>\n",
       "    </tr>\n",
       "    <tr>\n",
       "      <th>date</th>\n",
       "      <th></th>\n",
       "      <th></th>\n",
       "    </tr>\n",
       "  </thead>\n",
       "  <tbody>\n",
       "    <tr>\n",
       "      <th>0</th>\n",
       "      <td>2.016734e+05</td>\n",
       "      <td>2.016734e+05</td>\n",
       "    </tr>\n",
       "    <tr>\n",
       "      <th>1</th>\n",
       "      <td>2.163397e+07</td>\n",
       "      <td>1.789954e+08</td>\n",
       "    </tr>\n",
       "    <tr>\n",
       "      <th>2</th>\n",
       "      <td>1.690228e+07</td>\n",
       "      <td>8.349323e+08</td>\n",
       "    </tr>\n",
       "    <tr>\n",
       "      <th>3</th>\n",
       "      <td>3.168731e+06</td>\n",
       "      <td>2.032792e+08</td>\n",
       "    </tr>\n",
       "    <tr>\n",
       "      <th>5</th>\n",
       "      <td>1.818410e+07</td>\n",
       "      <td>8.078814e+08</td>\n",
       "    </tr>\n",
       "  </tbody>\n",
       "</table>\n",
       "</div>"
      ],
      "text/plain": [
       "         sales_usd    cumulative\n",
       "date                            \n",
       "0     2.016734e+05  2.016734e+05\n",
       "1     2.163397e+07  1.789954e+08\n",
       "2     1.690228e+07  8.349323e+08\n",
       "3     3.168731e+06  2.032792e+08\n",
       "5     1.818410e+07  8.078814e+08"
      ]
     },
     "execution_count": 97,
     "metadata": {},
     "output_type": "execute_result"
    }
   ],
   "source": [
    "df_agrup.head()"
   ]
  },
  {
   "cell_type": "code",
   "execution_count": null,
   "metadata": {},
   "outputs": [],
   "source": []
  }
 ],
 "metadata": {
  "kernelspec": {
   "display_name": "Python 3",
   "language": "python",
   "name": "python3"
  },
  "language_info": {
   "codemirror_mode": {
    "name": "ipython",
    "version": 3
   },
   "file_extension": ".py",
   "mimetype": "text/x-python",
   "name": "python",
   "nbconvert_exporter": "python",
   "pygments_lexer": "ipython3",
   "version": "3.7.1"
  }
 },
 "nbformat": 4,
 "nbformat_minor": 2
}
